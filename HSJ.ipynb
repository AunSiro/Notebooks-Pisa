{
 "cells": [
  {
   "cell_type": "markdown",
   "metadata": {},
   "source": [
    "### Setting up the work enviroment"
   ]
  },
  {
   "cell_type": "code",
   "execution_count": 1,
   "metadata": {},
   "outputs": [],
   "source": [
    "from sympy import (symbols, pi, I, E, cos, sin, exp, tan, simplify, expand, factor, collect,\n",
    "                   apart, cancel, expand_trig, diff, Derivative, Function, integrate, limit,\n",
    "                   series, Eq, solve, dsolve, Matrix, N, preorder_traversal, Float, solve_linear_system,\n",
    "                   eye, zeros, lambdify)\n",
    "from sympy.physics.mechanics import dynamicsymbols, init_vprinting\n",
    "from chords.symbolic import printer_function\n",
    "np_printer = printer_function('numpy')"
   ]
  },
  {
   "cell_type": "code",
   "execution_count": 2,
   "metadata": {},
   "outputs": [],
   "source": [
    "from scipy.special import roots_jacobi"
   ]
  },
  {
   "cell_type": "code",
   "execution_count": 3,
   "metadata": {},
   "outputs": [],
   "source": [
    "init_vprinting()"
   ]
  },
  {
   "cell_type": "code",
   "execution_count": 4,
   "metadata": {},
   "outputs": [],
   "source": [
    "x, xi = symbols('x xi')"
   ]
  },
  {
   "cell_type": "code",
   "execution_count": 5,
   "metadata": {},
   "outputs": [],
   "source": [
    "def x_roots(n):\n",
    "    return roots_jacobi(n+1, 1, 0)[0]\n",
    "def element(x, xm, xj):\n",
    "    return (x-xm)/(xj-xm)\n",
    "\n",
    "def L_pol(j,k):\n",
    "    prod = 1\n",
    "    #x_list = symbols(f'x_0:{k+1}')\n",
    "    x_list = x_roots(k)\n",
    "    for m in range(k+1):\n",
    "        if m != j:\n",
    "            prod *= element(x, x_list[m], x_list[j])\n",
    "    return expand(prod) \n",
    "\n",
    "def L_pol_sym(j,k):\n",
    "    prod = 1\n",
    "    x_list = symbols(f'x_0:{k+1}')\n",
    "    #x_list = x_roots(k)\n",
    "    for m in range(k+1):\n",
    "        if m != j:\n",
    "            prod *= element(x, x_list[m], x_list[j])\n",
    "    return expand(prod) \n",
    "\n",
    "def lagpol(n):\n",
    "    sumat = 0\n",
    "    q_list = symbols(f'f_0:{n+2}')\n",
    "    for ii in range(n+1):\n",
    "        sumat += L_pol(ii, n)*q_list[ii]\n",
    "    return sumat\n",
    "\n",
    "def lagpol_sym(n):\n",
    "    sumat = 0\n",
    "    q_list = symbols(f'f_0:{n+2}')\n",
    "    for ii in range(n+1):\n",
    "        sumat += L_pol_sym(ii, n)*q_list[ii]\n",
    "    return sumat\n",
    "\n",
    "def abcpol(n):\n",
    "    abc = symbols(f'a b c d e f g h i j k l m n o p q r s t u v w a_0:{max(0,n-22)}')\n",
    "    sumat = 0\n",
    "    for ii in range(n+1):\n",
    "        sumat += abc[ii]*x**ii\n",
    "    return sumat\n",
    "\n",
    "def lagpol_abc(n):\n",
    "    sumat = 0\n",
    "    x_list = x_roots(n)\n",
    "    abc = abcpol(2*n-1)\n",
    "    q_list = [abc.subs(x, x_list[ii]) for ii in range(n+1)]\n",
    "    for ii in range(n+1):\n",
    "        sumat += L_pol(ii, n)*q_list[ii]\n",
    "    return sumat\n",
    "\n",
    "def coefpol(n):\n",
    "    sumat = 0\n",
    "    for ii in range(n+1):\n",
    "        sumat += symbols(f'c_{ii}')*x**ii\n",
    "    return sumat\n",
    "\n",
    "def lagpol_coef(n):\n",
    "    sumat = 0\n",
    "    x_list = x_roots(n)\n",
    "    abc = coefpol(2*n-1)\n",
    "    q_list = [abc.subs(x, x_list[ii]) for ii in range(n+1)]\n",
    "    for ii in range(n+1):\n",
    "        sumat += L_pol(ii, n)*q_list[ii]\n",
    "    return sumat"
   ]
  },
  {
   "cell_type": "markdown",
   "metadata": {},
   "source": [
    "## Theory\n",
    "\n",
    "We want to use a polynomial approximation $\\psi(x)$ of $f(x)$ so that:\n",
    "\n",
    "$$\\int_{-1}^1 \\int_{-1}^{\\xi}f(x)\\text{ }dx \\text{ }d\\xi \\approx \\int_{-1}^1 \\int_{-1}^{\\xi}\\psi(x)\\text{ }dx \\text{ }d\\xi$$\n",
    "\n",
    "The polynomial $\\psi(x)$ has degree $n-1$ and is equal to $f(x)$ at $n$ points $x_i$. Therefore can be expressed as a sum of lagrange polynomials:\n",
    "\n",
    "$$\\psi(x) = \\sum_{i=0}^{n-1} f(x_i) L_i^{n-1}(x)$$\n",
    "\n",
    "If we define $S_i^n$ as $\\int_{-1}^1 \\int_{-1}^{\\xi}L_i^n(x)\\text{ }dx \\text{ }d\\xi$ :\n",
    "\n",
    "$$\\int_{-1}^1 \\int_{-1}^{\\xi}f(x)\\text{ }dx \\text{ }d\\xi \\approx \\int_{-1}^1 \\int_{-1}^{\\xi}\\sum_{i=0}^{n-1} f(x_i) L_i^{n-1}(x)\\text{ }dx \\text{ }d\\xi =\\sum_{i=0}^{n-1} S_i^{n-1} f(x_i)$$\n",
    "\n",
    "Therefore, finding the best points $x_i$ is the same problem as finding the best quadrature: \n",
    "$$\\int_{-1}^1 \\int_{-1}^{\\xi}f(x)\\text{ }dx \\text{ }d\\xi \\approx\\sum_{i=0}^{n-1}w_if(x_i).$$\n",
    "\n",
    "Using integration by parts we get:\n",
    "$$\\begin{align}\n",
    "\\int_{-1}^1 \\int_{-1}^{\\xi}f(t)\\mathrm dt \\mathrm d\\xi &=\\left[\\xi \\int_{-1}^{\\xi}f(t)\\mathrm dt\\right]_{-1}^1 - \\int_{-1}^1 \\xi f(\\xi)\\mathrm d\\xi\\\\\n",
    "&= \\int_{-1}^1 (1-\\xi)f(\\xi)\\mathrm d\\xi\\\\\n",
    "&\\approx \\sum_{i=0}^{n-1} w_if(x_i)\n",
    "\\end{align}$$\n",
    "\n",
    "Which can be treated using a [Gauss-Jacobi Quadrature](https://www.wikiwand.com/en/Gauss%E2%80%93Jacobi_quadrature) with $\\alpha = 1$, $\\beta = 0$, where the $x_i$ are then the roots of the corresponding Jacobi Polynomial.\n",
    "\n",
    "## Example: n = 2\n",
    "\n",
    "With n=2, we can approximate a polynomial of degree 2n-1 = 3 with a polynomial of degree n-1 = 1\n",
    "\n",
    "$$ f(x) = a + b x + c x^{2} + d x^{3}$$\n",
    "$$\\psi(x) = f_0 L_0^1  + f_1 L_1^1$$"
   ]
  },
  {
   "cell_type": "code",
   "execution_count": 6,
   "metadata": {},
   "outputs": [
    {
     "data": {
      "image/png": "[encoded data removed]",
      "text/latex": [
       "$\\displaystyle f_{0} \\left(\\frac{x}{x_{0} - x_{1}} - \\frac{x_{1}}{x_{0} - x_{1}}\\right) + f_{1} \\left(\\frac{x}{- x_{0} + x_{1}} - \\frac{x_{0}}{- x_{0} + x_{1}}\\right)$"
      ],
      "text/plain": [
       "   ⎛   x         x₁  ⎞      ⎛   x          x₀   ⎞\n",
       "f₀⋅⎜─────── - ───────⎟ + f₁⋅⎜──────── - ────────⎟\n",
       "   ⎝x₀ - x₁   x₀ - x₁⎠      ⎝-x₀ + x₁   -x₀ + x₁⎠"
      ]
     },
     "execution_count": 6,
     "metadata": {},
     "output_type": "execute_result"
    }
   ],
   "source": [
    "psi = lagpol_sym(1)\n",
    "psi"
   ]
  },
  {
   "cell_type": "code",
   "execution_count": 7,
   "metadata": {},
   "outputs": [
    {
     "data": {
      "image/png": "[encoded data removed]",
      "text/latex": [
       "$\\displaystyle a + b x + c x^{2} + d x^{3}$"
      ],
      "text/plain": [
       "             2      3\n",
       "a + b⋅x + c⋅x  + d⋅x "
      ]
     },
     "execution_count": 7,
     "metadata": {},
     "output_type": "execute_result"
    }
   ],
   "source": [
    "f = abcpol(3)\n",
    "f"
   ]
  },
  {
   "cell_type": "markdown",
   "metadata": {},
   "source": [
    "Calculating the integrals:"
   ]
  },
  {
   "cell_type": "code",
   "execution_count": 8,
   "metadata": {},
   "outputs": [
    {
     "data": {
      "image/png": "[encoded data removed]",
      "text/latex": [
       "$\\displaystyle \\frac{2 \\left(f_{0} - f_{1}\\right)}{6 x_{0} - 6 x_{1}} + \\frac{2 \\left(- 2 f_{0} x_{1} - f_{0} + 2 f_{1} x_{0} + f_{1}\\right)}{2 x_{0} - 2 x_{1}}$"
      ],
      "text/plain": [
       "2⋅(f₀ - f₁)   2⋅(-2⋅f₀⋅x₁ - f₀ + 2⋅f₁⋅x₀ + f₁)\n",
       "─────────── + ────────────────────────────────\n",
       "6⋅x₀ - 6⋅x₁             2⋅x₀ - 2⋅x₁           "
      ]
     },
     "execution_count": 8,
     "metadata": {},
     "output_type": "execute_result"
    }
   ],
   "source": [
    "psi_ii = integrate(integrate(psi, (x, -1, xi)), (xi, -1, 1))\n",
    "psi_ii"
   ]
  },
  {
   "cell_type": "code",
   "execution_count": 9,
   "metadata": {},
   "outputs": [
    {
     "data": {
      "image/png": "[encoded data removed]",
      "text/latex": [
       "$\\displaystyle 2 a - \\frac{2 b}{3} + \\frac{2 c}{3} - \\frac{2 d}{5}$"
      ],
      "text/plain": [
       "      2⋅b   2⋅c   2⋅d\n",
       "2⋅a - ─── + ─── - ───\n",
       "       3     3     5 "
      ]
     },
     "execution_count": 9,
     "metadata": {},
     "output_type": "execute_result"
    }
   ],
   "source": [
    "f_ii = integrate(integrate(f, (x, -1, xi)), (xi, -1, 1))\n",
    "f_ii"
   ]
  },
  {
   "cell_type": "markdown",
   "metadata": {},
   "source": [
    "We can substitute $f_0$ and $f_1$ by the values of $f(x_0)$ and $f(x_1)$ on the integrated expression of $\\psi$:"
   ]
  },
  {
   "cell_type": "code",
   "execution_count": 10,
   "metadata": {},
   "outputs": [
    {
     "data": {
      "image/png": "[encoded data removed]",
      "text/latex": [
       "$\\displaystyle 2 a - \\frac{2 b}{3} - 2 c x_{0} x_{1} - \\frac{2 c x_{0}}{3} - \\frac{2 c x_{1}}{3} - 2 d x_{0}^{2} x_{1} - \\frac{2 d x_{0}^{2}}{3} - 2 d x_{0} x_{1}^{2} - \\frac{2 d x_{0} x_{1}}{3} - \\frac{2 d x_{1}^{2}}{3}$"
      ],
      "text/plain": [
       "                                                             2                \n",
       "      2⋅b               2⋅c⋅x₀   2⋅c⋅x₁         2      2⋅d⋅x₀             2   \n",
       "2⋅a - ─── - 2⋅c⋅x₀⋅x₁ - ────── - ────── - 2⋅d⋅x₀ ⋅x₁ - ─────── - 2⋅d⋅x₀⋅x₁  - \n",
       "       3                  3        3                      3                   \n",
       "\n",
       "                  2\n",
       "2⋅d⋅x₀⋅x₁   2⋅d⋅x₁ \n",
       "───────── - ───────\n",
       "    3          3   "
      ]
     },
     "execution_count": 10,
     "metadata": {},
     "output_type": "execute_result"
    }
   ],
   "source": [
    "psi_ii = simplify(psi_ii.subs((\n",
    "    [symbols('f_0'), f.subs(x, symbols('x_0'))],\n",
    "    [symbols('f_1'), f.subs(x, symbols('x_1'))]\n",
    ")))\n",
    "psi_ii"
   ]
  },
  {
   "cell_type": "markdown",
   "metadata": {},
   "source": [
    "By choosing the correct $x_i$, we are able to make both integrals have the same value for any value of $a, b, c$ and $d$.\n",
    "In this case, the roots of the jacobi polynomial are:"
   ]
  },
  {
   "cell_type": "code",
   "execution_count": 11,
   "metadata": {},
   "outputs": [
    {
     "data": {
      "text/plain": [
       "array([-0.68989795,  0.28989795])"
      ]
     },
     "execution_count": 11,
     "metadata": {},
     "output_type": "execute_result"
    }
   ],
   "source": [
    "roots_jacobi(2, 1, 0)[0]"
   ]
  },
  {
   "cell_type": "markdown",
   "metadata": {},
   "source": [
    "If we use them as the values of $x_i$:"
   ]
  },
  {
   "cell_type": "code",
   "execution_count": 12,
   "metadata": {},
   "outputs": [
    {
     "data": {
      "image/png": "[encoded data removed]",
      "text/latex": [
       "$\\displaystyle 2.0 a - 0.666666666666667 b + 0.666666666666667 c - 0.4 d$"
      ],
      "text/plain": [
       "2.0⋅a - 0.666666666666667⋅b + 0.666666666666667⋅c - 0.4⋅d"
      ]
     },
     "execution_count": 12,
     "metadata": {},
     "output_type": "execute_result"
    }
   ],
   "source": [
    "psi_ii_num = simplify(psi_ii.subs((\n",
    "    [symbols('x_0'), roots_jacobi(2, 1, 0)[0][0]],\n",
    "    [symbols('x_1'), roots_jacobi(2, 1, 0)[0][1]]\n",
    ")))\n",
    "psi_ii_num"
   ]
  },
  {
   "cell_type": "markdown",
   "metadata": {},
   "source": [
    "We can observe that we obtain the same value as the integral of $f(x)$, up to numerical accuracy:"
   ]
  },
  {
   "cell_type": "code",
   "execution_count": 13,
   "metadata": {},
   "outputs": [
    {
     "data": {
      "image/png": "[encoded data removed]",
      "text/latex": [
       "$\\displaystyle 2 a - \\frac{2 b}{3} + \\frac{2 c}{3} - \\frac{2 d}{5}$"
      ],
      "text/plain": [
       "      2⋅b   2⋅c   2⋅d\n",
       "2⋅a - ─── + ─── - ───\n",
       "       3     3     5 "
      ]
     },
     "execution_count": 13,
     "metadata": {},
     "output_type": "execute_result"
    }
   ],
   "source": [
    "f_ii"
   ]
  },
  {
   "cell_type": "code",
   "execution_count": 14,
   "metadata": {},
   "outputs": [
    {
     "data": {
      "image/png": "[encoded data removed]",
      "text/latex": [
       "$\\displaystyle f_{0} \\left(\\frac{x}{x_{0} - x_{1}} - \\frac{x_{1}}{x_{0} - x_{1}}\\right) + f_{1} \\left(\\frac{x}{- x_{0} + x_{1}} - \\frac{x_{0}}{- x_{0} + x_{1}}\\right)$"
      ],
      "text/plain": [
       "   ⎛   x         x₁  ⎞      ⎛   x          x₀   ⎞\n",
       "f₀⋅⎜─────── - ───────⎟ + f₁⋅⎜──────── - ────────⎟\n",
       "   ⎝x₀ - x₁   x₀ - x₁⎠      ⎝-x₀ + x₁   -x₀ + x₁⎠"
      ]
     },
     "execution_count": 14,
     "metadata": {},
     "output_type": "execute_result"
    }
   ],
   "source": [
    "psi = lagpol_sym(1)\n",
    "psi"
   ]
  },
  {
   "cell_type": "code",
   "execution_count": 15,
   "metadata": {},
   "outputs": [
    {
     "data": {
      "image/png": "[encoded data removed]",
      "text/latex": [
       "$\\displaystyle 0.6 f_{0} + 0.4 f_{1}$"
      ],
      "text/plain": [
       "0.6⋅f₀ + 0.4⋅f₁"
      ]
     },
     "execution_count": 15,
     "metadata": {},
     "output_type": "execute_result"
    }
   ],
   "source": [
    "simplify(psi.subs((\n",
    "    [symbols('x_0'), 0],\n",
    "    [symbols('x_1'), 1],\n",
    "    [x, 2/5]\n",
    ")))"
   ]
  },
  {
   "cell_type": "markdown",
   "metadata": {},
   "source": [
    "### Higher Order\n",
    "\n",
    "We can observe that we can approximate polynomials of degree 2n-1 exactly up to numerical accuracy"
   ]
  },
  {
   "cell_type": "code",
   "execution_count": 16,
   "metadata": {},
   "outputs": [
    {
     "data": {
      "image/png": "[encoded data removed]",
      "text/latex": [
       "$\\displaystyle 2.17603712826531 \\cdot 10^{-14} a + 6.10622663543836 \\cdot 10^{-15} c + 2.22044604925031 \\cdot 10^{-16} d + 1.60982338570648 \\cdot 10^{-15} e + 5.88418203051333 \\cdot 10^{-15} f - 2.44249065417534 \\cdot 10^{-15} g + 1.08246744900953 \\cdot 10^{-14} h - 7.21644966006352 \\cdot 10^{-16} i + 3.99680288865056 \\cdot 10^{-15} j - 2.88657986402541 \\cdot 10^{-15} k + 2.38697950294409 \\cdot 10^{-15} l - 5.68989300120393 \\cdot 10^{-15} m + 2.41473507855972 \\cdot 10^{-15} n - 3.41393580072236 \\cdot 10^{-15} o + 6.64746035994312 \\cdot 10^{-15} p - 4.35762537165374 \\cdot 10^{-15} q + 3.59434704222394 \\cdot 10^{-15} r - 3.66373598126302 \\cdot 10^{-15} s + 3.5527136788005 \\cdot 10^{-15} t$"
      ],
      "text/plain": [
       "2.17603712826531e-14⋅a + 6.10622663543836e-15⋅c + 2.22044604925031e-16⋅d + 1.6\n",
       "0982338570648e-15⋅e + 5.88418203051333e-15⋅f - 2.44249065417534e-15⋅g + 1.0824\n",
       "6744900953e-14⋅h - 7.21644966006352e-16⋅i + 3.99680288865056e-15⋅j - 2.8865798\n",
       "6402541e-15⋅k + 2.38697950294409e-15⋅l - 5.68989300120393e-15⋅m + 2.4147350785\n",
       "5972e-15⋅n - 3.41393580072236e-15⋅o + 6.64746035994312e-15⋅p - 4.3576253716537\n",
       "4e-15⋅q + 3.59434704222394e-15⋅r - 3.66373598126302e-15⋅s + 3.5527136788005e-1\n",
       "5⋅t"
      ]
     },
     "execution_count": 16,
     "metadata": {},
     "output_type": "execute_result"
    }
   ],
   "source": [
    "n = 10\n",
    "\n",
    "f_new = abcpol(2*n-1)\n",
    "psi_new = lagpol_abc(n)\n",
    "\n",
    "f_new_ii = integrate(integrate(f_new, (x, -1, xi)), (xi, -1, 1))\n",
    "psi_new_ii = integrate(integrate(psi_new, (x, -1, xi)), (xi, -1, 1))\n",
    "\n",
    "f_new_ii-psi_new_ii"
   ]
  },
  {
   "cell_type": "code",
   "execution_count": null,
   "metadata": {},
   "outputs": [],
   "source": []
  },
  {
   "cell_type": "markdown",
   "metadata": {},
   "source": [
    "# An Hermite- Simpson Variation: HSJ"
   ]
  },
  {
   "cell_type": "code",
   "execution_count": 17,
   "metadata": {},
   "outputs": [],
   "source": [
    "from sympy import jacobi_poly"
   ]
  },
  {
   "cell_type": "code",
   "execution_count": 18,
   "metadata": {},
   "outputs": [
    {
     "data": {
      "image/png": "[encoded data removed]",
      "text/latex": [
       "$\\displaystyle \\operatorname{PurePoly}{\\left( \\frac{5}{2} x + \\frac{1}{2}, x, domain=\\mathbb{Q} \\right)}$"
      ],
      "text/plain": [
       "PurePoly(5/2*_x + 1/2, _x, domain='QQ')"
      ]
     },
     "execution_count": 18,
     "metadata": {},
     "output_type": "execute_result"
    }
   ],
   "source": [
    "_j = jacobi_poly(1,2,1, polys=True)\n",
    "_j"
   ]
  },
  {
   "cell_type": "code",
   "execution_count": 19,
   "metadata": {},
   "outputs": [
    {
     "data": {
      "image/png": "[encoded data removed]",
      "text/latex": [
       "$\\displaystyle - \\frac{1}{5}$"
      ],
      "text/plain": [
       "-1/5"
      ]
     },
     "execution_count": 19,
     "metadata": {},
     "output_type": "execute_result"
    }
   ],
   "source": [
    "_j.real_roots()[0]"
   ]
  },
  {
   "cell_type": "code",
   "execution_count": 20,
   "metadata": {},
   "outputs": [],
   "source": [
    "from sympy import Rational, factorial"
   ]
  },
  {
   "cell_type": "code",
   "execution_count": 21,
   "metadata": {},
   "outputs": [],
   "source": [
    "h = symbols('h')"
   ]
  },
  {
   "cell_type": "code",
   "execution_count": 22,
   "metadata": {},
   "outputs": [
    {
     "data": {
      "image/png": "[encoded data removed]",
      "text/latex": [
       "$\\displaystyle f_{0} \\cdot \\left(1 - \\frac{3 x}{h} + \\frac{2 x^{2}}{h^{2}}\\right) + f_{1} \\cdot \\left(\\frac{4 x}{h} - \\frac{4 x^{2}}{h^{2}}\\right) + f_{2} \\left(- \\frac{x}{h} + \\frac{2 x^{2}}{h^{2}}\\right)$"
      ],
      "text/plain": [
       "   ⎛             2⎞      ⎛         2⎞      ⎛         2⎞\n",
       "   ⎜    3⋅x   2⋅x ⎟      ⎜4⋅x   4⋅x ⎟      ⎜  x   2⋅x ⎟\n",
       "f₀⋅⎜1 - ─── + ────⎟ + f₁⋅⎜─── - ────⎟ + f₂⋅⎜- ─ + ────⎟\n",
       "   ⎜     h      2 ⎟      ⎜ h      2 ⎟      ⎜  h     2 ⎟\n",
       "   ⎝           h  ⎠      ⎝       h  ⎠      ⎝       h  ⎠"
      ]
     },
     "execution_count": 22,
     "metadata": {},
     "output_type": "execute_result"
    }
   ],
   "source": [
    "psi_qdd = lagpol_sym(2).subs([\n",
    "    [symbols('x_0'), 0],\n",
    "    [symbols('x_1'), h*Rational(1,2)],\n",
    "    [symbols('x_2'), h]    \n",
    "])\n",
    "psi_qdd"
   ]
  },
  {
   "cell_type": "code",
   "execution_count": 23,
   "metadata": {},
   "outputs": [],
   "source": [
    "q0, x0 = dynamicsymbols('q_0 x_0')\n",
    "v0 = q0.diff()\n",
    "\n",
    "qn, xn = dynamicsymbols('q_1 x_1')\n",
    "vn = qn.diff()"
   ]
  },
  {
   "cell_type": "code",
   "execution_count": 24,
   "metadata": {},
   "outputs": [
    {
     "data": {
      "image/png": "[encoded data removed]",
      "text/latex": [
       "$\\displaystyle f_{0} x + x_{0} + \\frac{x^{2} \\left(- 3 f_{0} + 4 f_{1} - f_{2}\\right)}{2 h} + \\frac{x^{3} \\cdot \\left(2 f_{0} - 4 f_{1} + 2 f_{2}\\right)}{3 h^{2}}$"
      ],
      "text/plain": [
       "             2                        3                     \n",
       "            x ⋅(-3⋅f₀ + 4⋅f₁ - f₂)   x ⋅(2⋅f₀ - 4⋅f₁ + 2⋅f₂)\n",
       "f₀⋅x + x₀ + ────────────────────── + ───────────────────────\n",
       "                     2⋅h                          2         \n",
       "                                               3⋅h          "
      ]
     },
     "execution_count": 24,
     "metadata": {},
     "output_type": "execute_result"
    }
   ],
   "source": [
    "psi_x = integrate(psi_qdd, (x, 0, x))+x0\n",
    "psi_x"
   ]
  },
  {
   "cell_type": "code",
   "execution_count": 25,
   "metadata": {},
   "outputs": [],
   "source": [
    "psi_h2 = psi_x.subs(x, h*Rational(1,2))\n",
    "f1 = solve(psi_h2, symbols('f_1'))[0]"
   ]
  },
  {
   "cell_type": "code",
   "execution_count": 26,
   "metadata": {},
   "outputs": [
    {
     "data": {
      "image/png": "[encoded data removed]",
      "text/latex": [
       "$\\displaystyle \\frac{f_{0} h}{6} + \\frac{2 f_{1} h}{3} + \\frac{f_{2} h}{6} + x_{0}$"
      ],
      "text/plain": [
       "f₀⋅h   2⋅f₁⋅h   f₂⋅h     \n",
       "──── + ────── + ──── + x₀\n",
       " 6       3       6       "
      ]
     },
     "execution_count": 26,
     "metadata": {},
     "output_type": "execute_result"
    }
   ],
   "source": [
    "HS_x_n = simplify(psi_x.subs(x, h))\n",
    "HS_x_n"
   ]
  },
  {
   "cell_type": "code",
   "execution_count": 27,
   "metadata": {},
   "outputs": [],
   "source": [
    "#simplify(psi_x.subs(x, h).subs(symbols('f_1'), f1))"
   ]
  },
  {
   "cell_type": "code",
   "execution_count": 28,
   "metadata": {},
   "outputs": [],
   "source": [
    "def taylor_q(n):\n",
    "    q = dynamicsymbols(\"q_0\")\n",
    "    abc = [q,]\n",
    "    for ii in range(n):\n",
    "        abc.append(abc[-1].diff())\n",
    "    sumat = 0\n",
    "    for ii in range(n+1):\n",
    "        sumat += abc[ii]*x**ii/factorial(ii)\n",
    "    return sumat\n",
    "\n",
    "def taylor_x(n):\n",
    "    q = dynamicsymbols(\"x_0\")\n",
    "    abc = [q,]\n",
    "    for ii in range(n):\n",
    "        abc.append(abc[-1].diff())\n",
    "    sumat = 0\n",
    "    for ii in range(n+1):\n",
    "        sumat += abc[ii]*x**ii/factorial(ii)\n",
    "    return sumat"
   ]
  },
  {
   "cell_type": "code",
   "execution_count": 29,
   "metadata": {},
   "outputs": [
    {
     "data": {
      "image/png": "[encoded data removed]",
      "text/latex": [
       "$\\displaystyle \\frac{x^{4} \\frac{d^{5}}{d t^{5}} x_{0}}{24} + \\frac{x^{3} \\ddddot{x}_{0}}{6} + \\frac{x^{2} \\dddot{x}_{0}}{2} + x \\ddot{x}_{0} + \\dot{x}_{0}$"
      ],
      "text/plain": [
       "     5                                \n",
       " 4  d                                 \n",
       "x ⋅───(x₀)                            \n",
       "     5        3       2               \n",
       "   dt        x ⋅x₀⃜   x ⋅x₀⃛            \n",
       "────────── + ───── + ───── + x⋅x₀̈ + x₀̇\n",
       "    24         6       2              "
      ]
     },
     "execution_count": 29,
     "metadata": {},
     "output_type": "execute_result"
    }
   ],
   "source": [
    "t5 = taylor_x(5)\n",
    "t5_d = t5.diff(x)\n",
    "t5_d"
   ]
  },
  {
   "cell_type": "code",
   "execution_count": 30,
   "metadata": {},
   "outputs": [
    {
     "data": {
      "image/png": "[encoded data removed]",
      "text/latex": [
       "$\\displaystyle \\frac{5 h^{5} \\frac{d^{5}}{d t^{5}} x_{0}}{576} + \\frac{h^{4} \\ddddot{x}_{0}}{24} + \\frac{h^{3} \\dddot{x}_{0}}{6} + \\frac{h^{2} \\ddot{x}_{0}}{2} + h \\dot{x}_{0} + x_{0}$"
      ],
      "text/plain": [
       "       5                                        \n",
       "   5  d                                         \n",
       "5⋅h ⋅───(x₀)                                    \n",
       "       5        4       3       2               \n",
       "     dt        h ⋅x₀⃜   h ⋅x₀⃛   h ⋅x₀̈            \n",
       "──────────── + ───── + ───── + ───── + h⋅x₀̇ + x₀\n",
       "    576          24      6       2              "
      ]
     },
     "execution_count": 30,
     "metadata": {},
     "output_type": "execute_result"
    }
   ],
   "source": [
    "expr_hs = simplify(HS_x_n.subs([\n",
    "    [symbols('f_0'), t5_d.subs(x, 0)],\n",
    "    [symbols('f_1'), t5_d.subs(x, h*Rational(1,2))],\n",
    "    [symbols('f_2'), t5_d.subs(x, h)],\n",
    "]))\n",
    "expr_hs"
   ]
  },
  {
   "cell_type": "code",
   "execution_count": 31,
   "metadata": {},
   "outputs": [
    {
     "data": {
      "image/png": "[encoded data removed]",
      "text/latex": [
       "$\\displaystyle - \\frac{h^{5} \\frac{d^{5}}{d t^{5}} x_{0}}{2880}$"
      ],
      "text/plain": [
       "      5     \n",
       "  5  d      \n",
       "-h ⋅───(x₀) \n",
       "      5     \n",
       "    dt      \n",
       "────────────\n",
       "    2880    "
      ]
     },
     "execution_count": 31,
     "metadata": {},
     "output_type": "execute_result"
    }
   ],
   "source": [
    "t5.subs(x, h)-expr_hs"
   ]
  },
  {
   "cell_type": "markdown",
   "metadata": {},
   "source": [
    "### 2nd order HS"
   ]
  },
  {
   "cell_type": "code",
   "execution_count": 32,
   "metadata": {
    "scrolled": true
   },
   "outputs": [
    {
     "data": {
      "image/png": "[encoded data removed]",
      "text/latex": [
       "$\\displaystyle \\frac{f_{0} x^{2}}{2} + x \\dot{q}_{0} + q_{0} + \\frac{x^{3} \\left(- 3 f_{0} + 4 f_{1} - f_{2}\\right)}{6 h} + \\frac{x^{4} \\left(f_{0} - 2 f_{1} + f_{2}\\right)}{6 h^{2}}$"
      ],
      "text/plain": [
       "    2                3                        4                 \n",
       "f₀⋅x                x ⋅(-3⋅f₀ + 4⋅f₁ - f₂)   x ⋅(f₀ - 2⋅f₁ + f₂)\n",
       "───── + x⋅q₀̇ + q₀ + ────────────────────── + ───────────────────\n",
       "  2                          6⋅h                        2       \n",
       "                                                     6⋅h        "
      ]
     },
     "execution_count": 32,
     "metadata": {},
     "output_type": "execute_result"
    }
   ],
   "source": [
    "psi_q = integrate(integrate(psi_qdd, (x, 0, xi))+v0, (xi, 0, x))+q0\n",
    "psi_q"
   ]
  },
  {
   "cell_type": "code",
   "execution_count": 33,
   "metadata": {},
   "outputs": [
    {
     "data": {
      "image/png": "[encoded data removed]",
      "text/latex": [
       "$\\displaystyle f_{0} x + \\dot{q}_{0} + \\frac{x^{2} \\left(- 3 f_{0} + 4 f_{1} - f_{2}\\right)}{2 h} + \\frac{x^{3} \\cdot \\left(2 f_{0} - 4 f_{1} + 2 f_{2}\\right)}{3 h^{2}}$"
      ],
      "text/plain": [
       "             2                        3                     \n",
       "            x ⋅(-3⋅f₀ + 4⋅f₁ - f₂)   x ⋅(2⋅f₀ - 4⋅f₁ + 2⋅f₂)\n",
       "f₀⋅x + q₀̇ + ────────────────────── + ───────────────────────\n",
       "                     2⋅h                          2         \n",
       "                                               3⋅h          "
      ]
     },
     "execution_count": 33,
     "metadata": {},
     "output_type": "execute_result"
    }
   ],
   "source": [
    "psi_v = integrate(psi_qdd, (x, 0, x))+v0\n",
    "psi_v"
   ]
  },
  {
   "cell_type": "code",
   "execution_count": 34,
   "metadata": {},
   "outputs": [
    {
     "data": {
      "image/png": "[encoded data removed]",
      "text/latex": [
       "$\\displaystyle \\frac{f_{0} h}{6} + \\frac{2 f_{1} h}{3} + \\frac{f_{2} h}{6} + \\dot{q}_{0}$"
      ],
      "text/plain": [
       "f₀⋅h   2⋅f₁⋅h   f₂⋅h     \n",
       "──── + ────── + ──── + q₀̇\n",
       " 6       3       6       "
      ]
     },
     "execution_count": 34,
     "metadata": {},
     "output_type": "execute_result"
    }
   ],
   "source": [
    "HS_v_n = simplify(psi_v.subs(x, h))\n",
    "HS_v_n"
   ]
  },
  {
   "cell_type": "code",
   "execution_count": 35,
   "metadata": {},
   "outputs": [
    {
     "data": {
      "image/png": "[encoded data removed]",
      "text/latex": [
       "$\\displaystyle \\frac{f_{0} h^{2}}{6} + \\frac{f_{1} h^{2}}{3} + h \\dot{q}_{0} + q_{0}$"
      ],
      "text/plain": [
       "    2       2            \n",
       "f₀⋅h    f₁⋅h             \n",
       "───── + ───── + h⋅q₀̇ + q₀\n",
       "  6       3              "
      ]
     },
     "execution_count": 35,
     "metadata": {},
     "output_type": "execute_result"
    }
   ],
   "source": [
    "HS_q_n = simplify(psi_q.subs(x, h))\n",
    "HS_q_n"
   ]
  },
  {
   "cell_type": "code",
   "execution_count": null,
   "metadata": {},
   "outputs": [],
   "source": []
  },
  {
   "cell_type": "code",
   "execution_count": 36,
   "metadata": {},
   "outputs": [
    {
     "data": {
      "image/png": "[encoded data removed]",
      "text/latex": [
       "$\\displaystyle c_{0} + c_{1} x + c_{2} x^{2} + c_{3} x^{3} + c_{4} x^{4}$"
      ],
      "text/plain": [
       "                2       3       4\n",
       "c₀ + c₁⋅x + c₂⋅x  + c₃⋅x  + c₄⋅x "
      ]
     },
     "execution_count": 36,
     "metadata": {},
     "output_type": "execute_result"
    }
   ],
   "source": [
    "coef_pol = coefpol(4)\n",
    "coef_pol"
   ]
  },
  {
   "cell_type": "code",
   "execution_count": 37,
   "metadata": {},
   "outputs": [
    {
     "data": {
      "image/png": "[encoded data removed]",
      "text/latex": [
       "$\\displaystyle c_{0} x + \\frac{c_{1} x^{2}}{2} + \\frac{c_{2} x^{3}}{3} + \\frac{c_{3} x^{4}}{4} + \\frac{c_{4} x^{5}}{5} + \\dot{q}_{0}$"
      ],
      "text/plain": [
       "           2       3       4       5     \n",
       "       c₁⋅x    c₂⋅x    c₃⋅x    c₄⋅x      \n",
       "c₀⋅x + ───── + ───── + ───── + ───── + q₀̇\n",
       "         2       3       4       5       "
      ]
     },
     "execution_count": 37,
     "metadata": {},
     "output_type": "execute_result"
    }
   ],
   "source": [
    "v_coef = integrate(coef_pol, (x, 0, x))+v0\n",
    "v_coef"
   ]
  },
  {
   "cell_type": "code",
   "execution_count": 38,
   "metadata": {},
   "outputs": [
    {
     "data": {
      "image/png": "[encoded data removed]",
      "text/latex": [
       "$\\displaystyle c_{0} h + \\frac{c_{1} h^{2}}{2} + \\frac{c_{2} h^{3}}{3} + \\frac{c_{3} h^{4}}{4} + \\frac{c_{4} h^{5}}{5} + \\dot{q}_{0}$"
      ],
      "text/plain": [
       "           2       3       4       5     \n",
       "       c₁⋅h    c₂⋅h    c₃⋅h    c₄⋅h      \n",
       "c₀⋅h + ───── + ───── + ───── + ───── + q₀̇\n",
       "         2       3       4       5       "
      ]
     },
     "execution_count": 38,
     "metadata": {},
     "output_type": "execute_result"
    }
   ],
   "source": [
    "v_coef_n = v_coef.subs(x, h)\n",
    "v_coef_n"
   ]
  },
  {
   "cell_type": "code",
   "execution_count": 39,
   "metadata": {},
   "outputs": [
    {
     "data": {
      "image/png": "[encoded data removed]",
      "text/latex": [
       "$\\displaystyle \\frac{c_{0} x^{2}}{2} + \\frac{c_{1} x^{3}}{6} + \\frac{c_{2} x^{4}}{12} + \\frac{c_{3} x^{5}}{20} + \\frac{c_{4} x^{6}}{30} + x \\dot{q}_{0} + q_{0}$"
      ],
      "text/plain": [
       "    2       3       4       5       6            \n",
       "c₀⋅x    c₁⋅x    c₂⋅x    c₃⋅x    c₄⋅x             \n",
       "───── + ───── + ───── + ───── + ───── + x⋅q₀̇ + q₀\n",
       "  2       6       12      20      30             "
      ]
     },
     "execution_count": 39,
     "metadata": {},
     "output_type": "execute_result"
    }
   ],
   "source": [
    "q_coef = integrate(integrate(coef_pol, (x, 0, xi))+v0, (xi, 0, x))+q0\n",
    "q_coef"
   ]
  },
  {
   "cell_type": "code",
   "execution_count": 40,
   "metadata": {},
   "outputs": [
    {
     "data": {
      "image/png": "[encoded data removed]",
      "text/latex": [
       "$\\displaystyle \\frac{c_{0} h^{2}}{2} + \\frac{c_{1} h^{3}}{6} + \\frac{c_{2} h^{4}}{12} + \\frac{c_{3} h^{5}}{20} + \\frac{c_{4} h^{6}}{30} + h \\dot{q}_{0} + q_{0}$"
      ],
      "text/plain": [
       "    2       3       4       5       6            \n",
       "c₀⋅h    c₁⋅h    c₂⋅h    c₃⋅h    c₄⋅h             \n",
       "───── + ───── + ───── + ───── + ───── + h⋅q₀̇ + q₀\n",
       "  2       6       12      20      30             "
      ]
     },
     "execution_count": 40,
     "metadata": {},
     "output_type": "execute_result"
    }
   ],
   "source": [
    "q_coef_n = q_coef.subs(x, h)\n",
    "q_coef_n"
   ]
  },
  {
   "cell_type": "code",
   "execution_count": 41,
   "metadata": {},
   "outputs": [],
   "source": [
    "coef_0 = coef_pol.subs(x, 0)\n",
    "coef_c = coef_pol.subs(x, h*Rational(1,2))\n",
    "coef_1 = coef_pol.subs(x, h)"
   ]
  },
  {
   "cell_type": "code",
   "execution_count": 42,
   "metadata": {},
   "outputs": [
    {
     "data": {
      "image/png": "[encoded data removed]",
      "text/latex": [
       "$\\displaystyle c_{0} + \\frac{c_{1} h}{2} + \\frac{c_{2} h^{2}}{4} + \\frac{c_{3} h^{3}}{8} + \\frac{c_{4} h^{4}}{16}$"
      ],
      "text/plain": [
       "                2       3       4\n",
       "     c₁⋅h   c₂⋅h    c₃⋅h    c₄⋅h \n",
       "c₀ + ──── + ───── + ───── + ─────\n",
       "      2       4       8       16 "
      ]
     },
     "execution_count": 42,
     "metadata": {},
     "output_type": "execute_result"
    }
   ],
   "source": [
    "coef_c"
   ]
  },
  {
   "cell_type": "code",
   "execution_count": 43,
   "metadata": {},
   "outputs": [
    {
     "data": {
      "image/png": "[encoded data removed]",
      "text/latex": [
       "$\\displaystyle c_{0} h + \\frac{c_{1} h^{2}}{2} + \\frac{c_{2} h^{3}}{3} + \\frac{c_{3} h^{4}}{4} + \\frac{5 c_{4} h^{5}}{24} + \\dot{q}_{0}$"
      ],
      "text/plain": [
       "           2       3       4         5     \n",
       "       c₁⋅h    c₂⋅h    c₃⋅h    5⋅c₄⋅h      \n",
       "c₀⋅h + ───── + ───── + ───── + ─────── + q₀̇\n",
       "         2       3       4        24       "
      ]
     },
     "execution_count": 43,
     "metadata": {},
     "output_type": "execute_result"
    }
   ],
   "source": [
    "HS_v_n_coef = HS_v_n.subs([\n",
    "    [symbols('f_0'), coef_0],\n",
    "    [symbols('f_1'), coef_c],\n",
    "    [symbols('f_2'), coef_1],\n",
    "]).expand()\n",
    "\n",
    "HS_v_n_coef"
   ]
  },
  {
   "cell_type": "code",
   "execution_count": 44,
   "metadata": {},
   "outputs": [
    {
     "data": {
      "image/png": "[encoded data removed]",
      "text/latex": [
       "$\\displaystyle \\frac{c_{0} h^{2}}{2} + \\frac{c_{1} h^{3}}{6} + \\frac{c_{2} h^{4}}{12} + \\frac{c_{3} h^{5}}{24} + \\frac{c_{4} h^{6}}{48} + h \\dot{q}_{0} + q_{0}$"
      ],
      "text/plain": [
       "    2       3       4       5       6            \n",
       "c₀⋅h    c₁⋅h    c₂⋅h    c₃⋅h    c₄⋅h             \n",
       "───── + ───── + ───── + ───── + ───── + h⋅q₀̇ + q₀\n",
       "  2       6       12      24      48             "
      ]
     },
     "execution_count": 44,
     "metadata": {},
     "output_type": "execute_result"
    }
   ],
   "source": [
    "HS_q_n_coef = HS_q_n.subs([\n",
    "    [symbols('f_0'), coef_0],\n",
    "    [symbols('f_1'), coef_c],\n",
    "    [symbols('f_2'), coef_1],\n",
    "]).expand()\n",
    "\n",
    "HS_q_n_coef"
   ]
  },
  {
   "cell_type": "code",
   "execution_count": 45,
   "metadata": {},
   "outputs": [
    {
     "data": {
      "image/png": "[encoded data removed]",
      "text/latex": [
       "$\\displaystyle \\frac{c_{4} h^{5}}{120}$"
      ],
      "text/plain": [
       "    5\n",
       "c₄⋅h \n",
       "─────\n",
       " 120 "
      ]
     },
     "execution_count": 45,
     "metadata": {},
     "output_type": "execute_result"
    }
   ],
   "source": [
    "HS_v_err = HS_v_n_coef - v_coef_n\n",
    "HS_v_err"
   ]
  },
  {
   "cell_type": "code",
   "execution_count": 46,
   "metadata": {},
   "outputs": [
    {
     "data": {
      "image/png": "[encoded data removed]",
      "text/latex": [
       "$\\displaystyle - \\frac{c_{3} h^{5}}{120} - \\frac{c_{4} h^{6}}{80}$"
      ],
      "text/plain": [
       "      5       6\n",
       "  c₃⋅h    c₄⋅h \n",
       "- ───── - ─────\n",
       "   120      80 "
      ]
     },
     "execution_count": 46,
     "metadata": {},
     "output_type": "execute_result"
    }
   ],
   "source": [
    "HS_q_err = HS_q_n_coef - q_coef_n\n",
    "HS_q_err"
   ]
  },
  {
   "cell_type": "code",
   "execution_count": null,
   "metadata": {},
   "outputs": [],
   "source": []
  },
  {
   "cell_type": "code",
   "execution_count": null,
   "metadata": {},
   "outputs": [],
   "source": []
  },
  {
   "cell_type": "code",
   "execution_count": 47,
   "metadata": {},
   "outputs": [
    {
     "data": {
      "image/png": "[encoded data removed]",
      "text/latex": [
       "$\\displaystyle \\frac{x^{3} \\frac{d^{5}}{d t^{5}} q_{0}}{6} + \\frac{x^{2} \\ddddot{q}_{0}}{2} + x \\dddot{q}_{0} + \\ddot{q}_{0}$"
      ],
      "text/plain": [
       "     5                        \n",
       " 3  d                         \n",
       "x ⋅───(q₀)                    \n",
       "     5        2               \n",
       "   dt        x ⋅q₀⃜            \n",
       "────────── + ───── + x⋅q₀⃛ + q₀̈\n",
       "    6          2              "
      ]
     },
     "execution_count": 47,
     "metadata": {},
     "output_type": "execute_result"
    }
   ],
   "source": [
    "t5 = taylor_q(5)\n",
    "t5_d = t5.diff(x)\n",
    "t5_dd = t5_d.diff(x)\n",
    "t5_dd"
   ]
  },
  {
   "cell_type": "code",
   "execution_count": 48,
   "metadata": {},
   "outputs": [
    {
     "data": {
      "image/png": "[encoded data removed]",
      "text/latex": [
       "$\\displaystyle \\frac{h^{5} \\frac{d^{5}}{d t^{5}} q_{0}}{144} + \\frac{h^{4} \\ddddot{q}_{0}}{24} + \\frac{h^{3} \\dddot{q}_{0}}{6} + \\frac{h^{2} \\ddot{q}_{0}}{2} + h \\dot{q}_{0} + q_{0}$"
      ],
      "text/plain": [
       "     5                                        \n",
       " 5  d                                         \n",
       "h ⋅───(q₀)                                    \n",
       "     5        4       3       2               \n",
       "   dt        h ⋅q₀⃜   h ⋅q₀⃛   h ⋅q₀̈            \n",
       "────────── + ───── + ───── + ───── + h⋅q₀̇ + q₀\n",
       "   144         24      6       2              "
      ]
     },
     "execution_count": 48,
     "metadata": {},
     "output_type": "execute_result"
    }
   ],
   "source": [
    "expr_hs_2 = simplify(HS_q_n.subs([\n",
    "    [symbols('f_0'), t5_dd.subs(x, 0)],\n",
    "    [symbols('f_1'), t5_dd.subs(x, h*Rational(1,2))],\n",
    "    [symbols('f_2'), t5_dd.subs(x, h)],\n",
    "]))\n",
    "expr_hs_2"
   ]
  },
  {
   "cell_type": "code",
   "execution_count": 49,
   "metadata": {},
   "outputs": [
    {
     "data": {
      "image/png": "[encoded data removed]",
      "text/latex": [
       "$\\displaystyle \\frac{h^{5} \\frac{d^{5}}{d t^{5}} q_{0}}{720}$"
      ],
      "text/plain": [
       "     5    \n",
       " 5  d     \n",
       "h ⋅───(q₀)\n",
       "     5    \n",
       "   dt     \n",
       "──────────\n",
       "   720    "
      ]
     },
     "execution_count": 49,
     "metadata": {},
     "output_type": "execute_result"
    }
   ],
   "source": [
    "t5.subs(x, h)-expr_hs_2"
   ]
  },
  {
   "cell_type": "code",
   "execution_count": null,
   "metadata": {},
   "outputs": [],
   "source": []
  },
  {
   "cell_type": "markdown",
   "metadata": {},
   "source": [
    "### HS-J"
   ]
  },
  {
   "cell_type": "code",
   "execution_count": 50,
   "metadata": {},
   "outputs": [
    {
     "data": {
      "image/png": "[encoded data removed]",
      "text/latex": [
       "$\\displaystyle \\frac{2 h}{5}$"
      ],
      "text/plain": [
       "2⋅h\n",
       "───\n",
       " 5 "
      ]
     },
     "execution_count": 50,
     "metadata": {},
     "output_type": "execute_result"
    }
   ],
   "source": [
    "hm = _j.real_roots()[0]\n",
    "hm = h *(hm+1)/2\n",
    "hm"
   ]
  },
  {
   "cell_type": "code",
   "execution_count": 51,
   "metadata": {},
   "outputs": [
    {
     "data": {
      "image/png": "[encoded data removed]",
      "text/latex": [
       "$\\displaystyle c_{0} + \\frac{2 c_{1} h}{5} + \\frac{4 c_{2} h^{2}}{25} + \\frac{8 c_{3} h^{3}}{125} + \\frac{16 c_{4} h^{4}}{625}$"
      ],
      "text/plain": [
       "                    2         3          4\n",
       "     2⋅c₁⋅h   4⋅c₂⋅h    8⋅c₃⋅h    16⋅c₄⋅h \n",
       "c₀ + ────── + ─────── + ─────── + ────────\n",
       "       5         25       125       625   "
      ]
     },
     "execution_count": 51,
     "metadata": {},
     "output_type": "execute_result"
    }
   ],
   "source": [
    "coef_cj = coef_pol.subs(x, hm)\n",
    "coef_cj"
   ]
  },
  {
   "cell_type": "code",
   "execution_count": 52,
   "metadata": {},
   "outputs": [
    {
     "data": {
      "image/png": "[encoded data removed]",
      "text/latex": [
       "$\\displaystyle f_{0} \\cdot \\left(1 - \\frac{7 x}{2 h} + \\frac{5 x^{2}}{2 h^{2}}\\right) + f_{1} \\cdot \\left(\\frac{25 x}{6 h} - \\frac{25 x^{2}}{6 h^{2}}\\right) + f_{2} \\left(- \\frac{2 x}{3 h} + \\frac{5 x^{2}}{3 h^{2}}\\right)$"
      ],
      "text/plain": [
       "   ⎛             2⎞      ⎛           2⎞      ⎛           2⎞\n",
       "   ⎜    7⋅x   5⋅x ⎟      ⎜25⋅x   25⋅x ⎟      ⎜  2⋅x   5⋅x ⎟\n",
       "f₀⋅⎜1 - ─── + ────⎟ + f₁⋅⎜──── - ─────⎟ + f₂⋅⎜- ─── + ────⎟\n",
       "   ⎜    2⋅h      2⎟      ⎜6⋅h        2⎟      ⎜  3⋅h      2⎟\n",
       "   ⎝          2⋅h ⎠      ⎝        6⋅h ⎠      ⎝        3⋅h ⎠"
      ]
     },
     "execution_count": 52,
     "metadata": {},
     "output_type": "execute_result"
    }
   ],
   "source": [
    "psi_qdd_j = lagpol_sym(2).subs([\n",
    "    [symbols('x_0'), 0],\n",
    "    [symbols('x_1'), hm],\n",
    "    [symbols('x_2'), h]    \n",
    "])\n",
    "psi_qdd_j"
   ]
  },
  {
   "cell_type": "code",
   "execution_count": 53,
   "metadata": {},
   "outputs": [
    {
     "data": {
      "image/png": "[encoded data removed]",
      "text/latex": [
       "$\\displaystyle f_{0} + x^{2} \\cdot \\left(\\frac{5 f_{0}}{2 h^{2}} - \\frac{25 f_{1}}{6 h^{2}} + \\frac{5 f_{2}}{3 h^{2}}\\right) + x \\left(- \\frac{7 f_{0}}{2 h} + \\frac{25 f_{1}}{6 h} - \\frac{2 f_{2}}{3 h}\\right)$"
      ],
      "text/plain": [
       "      2 ⎛5⋅f₀   25⋅f₁   5⋅f₂⎞     ⎛  7⋅f₀   25⋅f₁   2⋅f₂⎞\n",
       "f₀ + x ⋅⎜──── - ───── + ────⎟ + x⋅⎜- ──── + ───── - ────⎟\n",
       "        ⎜   2       2      2⎟     ⎝  2⋅h     6⋅h    3⋅h ⎠\n",
       "        ⎝2⋅h     6⋅h    3⋅h ⎠                            "
      ]
     },
     "execution_count": 53,
     "metadata": {},
     "output_type": "execute_result"
    }
   ],
   "source": [
    "_a = psi_qdd_j.expand()\n",
    "collect(_a, x)"
   ]
  },
  {
   "cell_type": "code",
   "execution_count": 54,
   "metadata": {},
   "outputs": [
    {
     "data": {
      "image/png": "[encoded data removed]",
      "text/latex": [
       "$\\displaystyle f_{0} x + \\dot{q}_{0} + \\frac{x^{2} \\left(- 21 f_{0} + 25 f_{1} - 4 f_{2}\\right)}{12 h} + \\frac{x^{3} \\cdot \\left(15 f_{0} - 25 f_{1} + 10 f_{2}\\right)}{18 h^{2}}$"
      ],
      "text/plain": [
       "             2                            3                        \n",
       "            x ⋅(-21⋅f₀ + 25⋅f₁ - 4⋅f₂)   x ⋅(15⋅f₀ - 25⋅f₁ + 10⋅f₂)\n",
       "f₀⋅x + q₀̇ + ────────────────────────── + ──────────────────────────\n",
       "                       12⋅h                            2           \n",
       "                                                   18⋅h            "
      ]
     },
     "execution_count": 54,
     "metadata": {},
     "output_type": "execute_result"
    }
   ],
   "source": [
    "psi_v_j = integrate(psi_qdd_j, (x, 0, x))+v0\n",
    "psi_v_j"
   ]
  },
  {
   "cell_type": "code",
   "execution_count": 55,
   "metadata": {},
   "outputs": [
    {
     "data": {
      "image/png": "[encoded data removed]",
      "text/latex": [
       "$\\displaystyle \\frac{f_{0} x^{2}}{2} + x \\dot{q}_{0} + q_{0} + \\frac{x^{3} \\left(- 21 f_{0} + 25 f_{1} - 4 f_{2}\\right)}{36 h} + \\frac{x^{4} \\cdot \\left(15 f_{0} - 25 f_{1} + 10 f_{2}\\right)}{72 h^{2}}$"
      ],
      "text/plain": [
       "    2                3                            4                        \n",
       "f₀⋅x                x ⋅(-21⋅f₀ + 25⋅f₁ - 4⋅f₂)   x ⋅(15⋅f₀ - 25⋅f₁ + 10⋅f₂)\n",
       "───── + x⋅q₀̇ + q₀ + ────────────────────────── + ──────────────────────────\n",
       "  2                            36⋅h                            2           \n",
       "                                                           72⋅h            "
      ]
     },
     "execution_count": 55,
     "metadata": {},
     "output_type": "execute_result"
    }
   ],
   "source": [
    "psi_q_j = integrate(integrate(psi_qdd_j, (x, 0, xi))+v0, (xi, 0, x))+q0\n",
    "psi_q_j"
   ]
  },
  {
   "cell_type": "code",
   "execution_count": 56,
   "metadata": {},
   "outputs": [
    {
     "data": {
      "image/png": "[encoded data removed]",
      "text/latex": [
       "$\\displaystyle \\frac{f_{0} h}{12} + \\frac{25 f_{1} h}{36} + \\frac{2 f_{2} h}{9} + \\dot{q}_{0}$"
      ],
      "text/plain": [
       "f₀⋅h   25⋅f₁⋅h   2⋅f₂⋅h     \n",
       "──── + ─────── + ────── + q₀̇\n",
       " 12       36       9        "
      ]
     },
     "execution_count": 56,
     "metadata": {},
     "output_type": "execute_result"
    }
   ],
   "source": [
    "HSJ_v_n = simplify(psi_v_j.subs(x, h))\n",
    "HSJ_v_n"
   ]
  },
  {
   "cell_type": "code",
   "execution_count": 57,
   "metadata": {},
   "outputs": [
    {
     "data": {
      "image/png": "[encoded data removed]",
      "text/latex": [
       "$\\displaystyle \\frac{f_{0} h^{2}}{8} + \\frac{25 f_{1} h^{2}}{72} + \\frac{f_{2} h^{2}}{36} + h \\dot{q}_{0} + q_{0}$"
      ],
      "text/plain": [
       "    2          2       2            \n",
       "f₀⋅h    25⋅f₁⋅h    f₂⋅h             \n",
       "───── + ──────── + ───── + h⋅q₀̇ + q₀\n",
       "  8        72        36             "
      ]
     },
     "execution_count": 57,
     "metadata": {},
     "output_type": "execute_result"
    }
   ],
   "source": [
    "HSJ_q_n = simplify(psi_q_j.subs(x, h))\n",
    "HSJ_q_n"
   ]
  },
  {
   "cell_type": "code",
   "execution_count": 58,
   "metadata": {},
   "outputs": [
    {
     "data": {
      "image/png": "[encoded data removed]",
      "text/latex": [
       "$\\displaystyle \\dot{q}_{1}$"
      ],
      "text/plain": [
       "q₁̇"
      ]
     },
     "execution_count": 58,
     "metadata": {},
     "output_type": "execute_result"
    }
   ],
   "source": [
    "vn"
   ]
  },
  {
   "cell_type": "code",
   "execution_count": 59,
   "metadata": {},
   "outputs": [
    {
     "data": {
      "image/png": "[encoded data removed]",
      "text/latex": [
       "$\\displaystyle \\frac{- h \\left(3 f_{0} + 8 f_{2}\\right) - 36 \\dot{q}_{0} + 36 \\dot{q}_{1}}{25 h}$"
      ],
      "text/plain": [
       "-h⋅(3⋅f₀ + 8⋅f₂) - 36⋅q₀̇ + 36⋅q₁̇\n",
       "────────────────────────────────\n",
       "              25⋅h              "
      ]
     },
     "execution_count": 59,
     "metadata": {},
     "output_type": "execute_result"
    }
   ],
   "source": [
    "f1_hsj = simplify(solve(HSJ_v_n-vn, symbols('f_1'))[0])\n",
    "f1_hsj"
   ]
  },
  {
   "cell_type": "code",
   "execution_count": 60,
   "metadata": {},
   "outputs": [
    {
     "data": {
      "image/png": "[encoded data removed]",
      "text/latex": [
       "$\\displaystyle \\frac{- h^{2} \\cdot \\left(9 f_{0} + 2 f_{2}\\right) - 72 h \\dot{q}_{0} - 72 q_{0} + 72 q_{1}}{25 h^{2}}$"
      ],
      "text/plain": [
       "   2                                        \n",
       "- h ⋅(9⋅f₀ + 2⋅f₂) - 72⋅h⋅q₀̇ - 72⋅q₀ + 72⋅q₁\n",
       "────────────────────────────────────────────\n",
       "                       2                    \n",
       "                   25⋅h                     "
      ]
     },
     "execution_count": 60,
     "metadata": {},
     "output_type": "execute_result"
    }
   ],
   "source": [
    "f1_hsj_q = simplify(solve(HSJ_q_n-qn, symbols('f_1'))[0])\n",
    "f1_hsj_q"
   ]
  },
  {
   "cell_type": "code",
   "execution_count": 61,
   "metadata": {},
   "outputs": [
    {
     "data": {
      "image/png": "[encoded data removed]",
      "text/latex": [
       "$\\displaystyle \\frac{18 f_{0} h}{125} - \\frac{12 f_{2} h}{125} + \\frac{81 \\dot{q}_{0}}{125} + \\frac{44 \\dot{q}_{1}}{125}$"
      ],
      "text/plain": [
       "18⋅f₀⋅h   12⋅f₂⋅h   81⋅q₀̇   44⋅q₁̇\n",
       "─────── - ─────── + ───── + ─────\n",
       "  125       125      125     125 "
      ]
     },
     "execution_count": 61,
     "metadata": {},
     "output_type": "execute_result"
    }
   ],
   "source": [
    "HSJ_v_c = simplify(psi_v_j.subs(x, 2*h/5))\n",
    "HSJ_v_c = simplify(HSJ_v_c.subs(symbols('f_1'), f1_hsj))\n",
    "HSJ_v_c"
   ]
  },
  {
   "cell_type": "code",
   "execution_count": 62,
   "metadata": {},
   "outputs": [
    {
     "data": {
      "image/png": "[encoded data removed]",
      "text/latex": [
       "$\\displaystyle \\frac{82 f_{0} h^{2}}{1875} - \\frac{28 f_{2} h^{2}}{1875} + \\frac{218 h \\dot{q}_{0}}{625} + \\frac{32 h \\dot{q}_{1}}{625} + q_{0}$"
      ],
      "text/plain": [
       "       2          2                          \n",
       "82⋅f₀⋅h    28⋅f₂⋅h    218⋅h⋅q₀̇   32⋅h⋅q₁̇     \n",
       "──────── - ──────── + ──────── + ─────── + q₀\n",
       "  1875       1875       625        625       "
      ]
     },
     "execution_count": 62,
     "metadata": {},
     "output_type": "execute_result"
    }
   ],
   "source": [
    "HSJ_q_c = simplify(psi_q_j.subs(x, 2*h/5))\n",
    "HSJ_q_c = simplify(HSJ_q_c.subs(symbols('f_1'), f1_hsj))\n",
    "HSJ_q_c"
   ]
  },
  {
   "cell_type": "code",
   "execution_count": 63,
   "metadata": {},
   "outputs": [
    {
     "data": {
      "image/png": "[encoded data removed]",
      "text/latex": [
       "$\\displaystyle \\frac{22 f_{0} h^{2}}{625} - \\frac{4 f_{2} h^{2}}{625} + \\frac{186 h \\dot{q}_{0}}{625} + \\frac{561 q_{0}}{625} + \\frac{64 q_{1}}{625}$"
      ],
      "text/plain": [
       "       2         2                            \n",
       "22⋅f₀⋅h    4⋅f₂⋅h    186⋅h⋅q₀̇   561⋅q₀   64⋅q₁\n",
       "──────── - ─────── + ──────── + ────── + ─────\n",
       "  625        625       625       625      625 "
      ]
     },
     "execution_count": 63,
     "metadata": {},
     "output_type": "execute_result"
    }
   ],
   "source": [
    "HSJ_q_c_q = simplify(psi_q_j.subs(x, 2*h/5))\n",
    "HSJ_q_c_q = simplify(HSJ_q_c_q.subs(symbols('f_1'), f1_hsj_q))\n",
    "HSJ_q_c_q"
   ]
  },
  {
   "cell_type": "code",
   "execution_count": 64,
   "metadata": {},
   "outputs": [
    {
     "data": {
      "image/png": "[encoded data removed]",
      "text/latex": [
       "$\\displaystyle c_{0} h + \\frac{c_{1} h^{2}}{2} + \\frac{c_{2} h^{3}}{3} + \\frac{4 c_{3} h^{4}}{15} + \\frac{6 c_{4} h^{5}}{25} + \\dot{q}_{0}$"
      ],
      "text/plain": [
       "           2       3         4         5     \n",
       "       c₁⋅h    c₂⋅h    4⋅c₃⋅h    6⋅c₄⋅h      \n",
       "c₀⋅h + ───── + ───── + ─────── + ─────── + q₀̇\n",
       "         2       3        15        25       "
      ]
     },
     "execution_count": 64,
     "metadata": {},
     "output_type": "execute_result"
    }
   ],
   "source": [
    "HSJ_v_n_coef = HSJ_v_n.subs([\n",
    "    [symbols('f_0'), coef_0],\n",
    "    [symbols('f_1'), coef_cj],\n",
    "    [symbols('f_2'), coef_1],\n",
    "]).expand()\n",
    "\n",
    "HSJ_v_n_coef"
   ]
  },
  {
   "cell_type": "code",
   "execution_count": 65,
   "metadata": {},
   "outputs": [
    {
     "data": {
      "image/png": "[encoded data removed]",
      "text/latex": [
       "$\\displaystyle \\frac{c_{0} h^{2}}{2} + \\frac{c_{1} h^{3}}{6} + \\frac{c_{2} h^{4}}{12} + \\frac{c_{3} h^{5}}{20} + \\frac{11 c_{4} h^{6}}{300} + h \\dot{q}_{0} + q_{0}$"
      ],
      "text/plain": [
       "    2       3       4       5          6            \n",
       "c₀⋅h    c₁⋅h    c₂⋅h    c₃⋅h    11⋅c₄⋅h             \n",
       "───── + ───── + ───── + ───── + ──────── + h⋅q₀̇ + q₀\n",
       "  2       6       12      20      300               "
      ]
     },
     "execution_count": 65,
     "metadata": {},
     "output_type": "execute_result"
    }
   ],
   "source": [
    "HSJ_q_n_coef = HSJ_q_n.subs([\n",
    "    [symbols('f_0'), coef_0],\n",
    "    [symbols('f_1'), coef_cj],\n",
    "    [symbols('f_2'), coef_1],\n",
    "]).expand()\n",
    "\n",
    "HSJ_q_n_coef"
   ]
  },
  {
   "cell_type": "code",
   "execution_count": 66,
   "metadata": {},
   "outputs": [
    {
     "data": {
      "image/png": "[encoded data removed]",
      "text/latex": [
       "$\\displaystyle \\frac{c_{3} h^{4}}{60} + \\frac{c_{4} h^{5}}{25}$"
      ],
      "text/plain": [
       "    4       5\n",
       "c₃⋅h    c₄⋅h \n",
       "───── + ─────\n",
       "  60      25 "
      ]
     },
     "execution_count": 66,
     "metadata": {},
     "output_type": "execute_result"
    }
   ],
   "source": [
    "HSJ_v_err = HSJ_v_n_coef - v_coef_n\n",
    "HSJ_v_err"
   ]
  },
  {
   "cell_type": "code",
   "execution_count": 67,
   "metadata": {},
   "outputs": [
    {
     "data": {
      "image/png": "[encoded data removed]",
      "text/latex": [
       "$\\displaystyle \\frac{c_{4} h^{6}}{300}$"
      ],
      "text/plain": [
       "    6\n",
       "c₄⋅h \n",
       "─────\n",
       " 300 "
      ]
     },
     "execution_count": 67,
     "metadata": {},
     "output_type": "execute_result"
    }
   ],
   "source": [
    "HSJ_q_err = HSJ_q_n_coef - q_coef_n\n",
    "HSJ_q_err"
   ]
  },
  {
   "cell_type": "code",
   "execution_count": null,
   "metadata": {},
   "outputs": [],
   "source": []
  },
  {
   "cell_type": "code",
   "execution_count": null,
   "metadata": {},
   "outputs": [],
   "source": []
  },
  {
   "cell_type": "code",
   "execution_count": 68,
   "metadata": {},
   "outputs": [
    {
     "data": {
      "image/png": "[encoded data removed]",
      "text/latex": [
       "$\\displaystyle \\frac{x^{4} \\frac{d^{6}}{d t^{6}} q_{0}}{24} + \\frac{x^{3} \\frac{d^{5}}{d t^{5}} q_{0}}{6} + \\frac{x^{2} \\ddddot{q}_{0}}{2} + x \\dddot{q}_{0} + \\ddot{q}_{0}$"
      ],
      "text/plain": [
       "     6            5                        \n",
       " 4  d         3  d                         \n",
       "x ⋅───(q₀)   x ⋅───(q₀)                    \n",
       "     6            5        2               \n",
       "   dt           dt        x ⋅q₀⃜            \n",
       "────────── + ────────── + ───── + x⋅q₀⃛ + q₀̈\n",
       "    24           6          2              "
      ]
     },
     "execution_count": 68,
     "metadata": {},
     "output_type": "execute_result"
    }
   ],
   "source": [
    "t6 = taylor_q(6)\n",
    "t6_d = t6.diff(x)\n",
    "t6_dd = t6_d.diff(x)\n",
    "t6_dd"
   ]
  },
  {
   "cell_type": "code",
   "execution_count": 69,
   "metadata": {},
   "outputs": [
    {
     "data": {
      "image/png": "[encoded data removed]",
      "text/latex": [
       "$\\displaystyle \\frac{h^{5} \\frac{d^{5}}{d t^{5}} q_{0}}{120} + \\frac{h^{4} \\ddddot{q}_{0}}{24} + \\frac{h^{3} \\dddot{q}_{0}}{6} + \\frac{h^{2} \\ddot{q}_{0}}{2} + h \\dot{q}_{0} + q_{0}$"
      ],
      "text/plain": [
       "     5                                        \n",
       " 5  d                                         \n",
       "h ⋅───(q₀)                                    \n",
       "     5        4       3       2               \n",
       "   dt        h ⋅q₀⃜   h ⋅q₀⃛   h ⋅q₀̈            \n",
       "────────── + ───── + ───── + ───── + h⋅q₀̇ + q₀\n",
       "   120         24      6       2              "
      ]
     },
     "execution_count": 69,
     "metadata": {},
     "output_type": "execute_result"
    }
   ],
   "source": [
    "expr_hs_j = simplify(HSJ_q_n.subs([\n",
    "    [symbols('f_0'), t5_dd.subs(x, 0)],\n",
    "    [symbols('f_1'), t5_dd.subs(x, hm)],\n",
    "    [symbols('f_2'), t5_dd.subs(x, h)],\n",
    "]))\n",
    "expr_hs_j"
   ]
  },
  {
   "cell_type": "code",
   "execution_count": 70,
   "metadata": {},
   "outputs": [
    {
     "data": {
      "image/png": "[encoded data removed]",
      "text/latex": [
       "$\\displaystyle \\frac{h^{6} \\frac{d^{6}}{d t^{6}} q_{0}}{720}$"
      ],
      "text/plain": [
       "     6    \n",
       " 6  d     \n",
       "h ⋅───(q₀)\n",
       "     6    \n",
       "   dt     \n",
       "──────────\n",
       "   720    "
      ]
     },
     "execution_count": 70,
     "metadata": {},
     "output_type": "execute_result"
    }
   ],
   "source": [
    "t6.subs(x, h)-expr_hs_j"
   ]
  },
  {
   "cell_type": "code",
   "execution_count": null,
   "metadata": {},
   "outputs": [],
   "source": []
  },
  {
   "cell_type": "code",
   "execution_count": 71,
   "metadata": {},
   "outputs": [
    {
     "data": {
      "image/png": "[encoded data removed]",
      "text/latex": [
       "$\\displaystyle \\frac{f_{0} h^{2} + \\frac{h x \\left(- 21 f_{0} + 25 f_{1} - 4 f_{2}\\right)}{6} + \\frac{x^{2} \\cdot \\left(15 f_{0} - 25 f_{1} + 10 f_{2}\\right)}{6}}{h^{2}}$"
      ],
      "text/plain": [
       "                                       2                        \n",
       "    2   h⋅x⋅(-21⋅f₀ + 25⋅f₁ - 4⋅f₂)   x ⋅(15⋅f₀ - 25⋅f₁ + 10⋅f₂)\n",
       "f₀⋅h  + ─────────────────────────── + ──────────────────────────\n",
       "                     6                            6             \n",
       "────────────────────────────────────────────────────────────────\n",
       "                                2                               \n",
       "                               h                                "
      ]
     },
     "execution_count": 71,
     "metadata": {},
     "output_type": "execute_result"
    }
   ],
   "source": [
    "simplify(expand(psi_qdd_j, ))"
   ]
  },
  {
   "cell_type": "code",
   "execution_count": 72,
   "metadata": {},
   "outputs": [
    {
     "data": {
      "image/png": "[encoded data removed]",
      "text/latex": [
       "$\\displaystyle f_{0} \\cdot \\left(1 - \\frac{7 x}{2 h} + \\frac{5 x^{2}}{2 h^{2}}\\right) + f_{1} \\cdot \\left(\\frac{25 x}{6 h} - \\frac{25 x^{2}}{6 h^{2}}\\right) + f_{2} \\left(- \\frac{2 x}{3 h} + \\frac{5 x^{2}}{3 h^{2}}\\right)$"
      ],
      "text/plain": [
       "   ⎛             2⎞      ⎛           2⎞      ⎛           2⎞\n",
       "   ⎜    7⋅x   5⋅x ⎟      ⎜25⋅x   25⋅x ⎟      ⎜  2⋅x   5⋅x ⎟\n",
       "f₀⋅⎜1 - ─── + ────⎟ + f₁⋅⎜──── - ─────⎟ + f₂⋅⎜- ─── + ────⎟\n",
       "   ⎜    2⋅h      2⎟      ⎜6⋅h        2⎟      ⎜  3⋅h      2⎟\n",
       "   ⎝          2⋅h ⎠      ⎝        6⋅h ⎠      ⎝        3⋅h ⎠"
      ]
     },
     "execution_count": 72,
     "metadata": {},
     "output_type": "execute_result"
    }
   ],
   "source": [
    "psi_qdd_j"
   ]
  },
  {
   "cell_type": "code",
   "execution_count": 73,
   "metadata": {},
   "outputs": [
    {
     "data": {
      "image/png": "[encoded data removed]",
      "text/latex": [
       "$\\displaystyle \\frac{h \\left(3 f_{0} + 25 f_{1} + 8 f_{2}\\right)}{36}$"
      ],
      "text/plain": [
       "h⋅(3⋅f₀ + 25⋅f₁ + 8⋅f₂)\n",
       "───────────────────────\n",
       "           36          "
      ]
     },
     "execution_count": 73,
     "metadata": {},
     "output_type": "execute_result"
    }
   ],
   "source": [
    "simplify(integrate(psi_qdd_j, (x, 0, h)))"
   ]
  },
  {
   "cell_type": "code",
   "execution_count": 74,
   "metadata": {},
   "outputs": [
    {
     "data": {
      "image/png": "[encoded data removed]",
      "text/latex": [
       "$\\displaystyle f_{0} \\cdot \\left(1 - \\frac{3 x}{h} + \\frac{2 x^{2}}{h^{2}}\\right) + f_{1} \\cdot \\left(\\frac{4 x}{h} - \\frac{4 x^{2}}{h^{2}}\\right) + f_{2} \\left(- \\frac{x}{h} + \\frac{2 x^{2}}{h^{2}}\\right)$"
      ],
      "text/plain": [
       "   ⎛             2⎞      ⎛         2⎞      ⎛         2⎞\n",
       "   ⎜    3⋅x   2⋅x ⎟      ⎜4⋅x   4⋅x ⎟      ⎜  x   2⋅x ⎟\n",
       "f₀⋅⎜1 - ─── + ────⎟ + f₁⋅⎜─── - ────⎟ + f₂⋅⎜- ─ + ────⎟\n",
       "   ⎜     h      2 ⎟      ⎜ h      2 ⎟      ⎜  h     2 ⎟\n",
       "   ⎝           h  ⎠      ⎝       h  ⎠      ⎝       h  ⎠"
      ]
     },
     "execution_count": 74,
     "metadata": {},
     "output_type": "execute_result"
    }
   ],
   "source": [
    "psi_qdd"
   ]
  },
  {
   "cell_type": "code",
   "execution_count": 75,
   "metadata": {},
   "outputs": [
    {
     "data": {
      "image/png": "[encoded data removed]",
      "text/latex": [
       "$\\displaystyle \\frac{h \\left(f_{0} + 4 f_{1} + f_{2}\\right)}{6}$"
      ],
      "text/plain": [
       "h⋅(f₀ + 4⋅f₁ + f₂)\n",
       "──────────────────\n",
       "        6         "
      ]
     },
     "execution_count": 75,
     "metadata": {},
     "output_type": "execute_result"
    }
   ],
   "source": [
    "simplify(integrate(psi_qdd, (x, 0, h)))"
   ]
  },
  {
   "cell_type": "code",
   "execution_count": 76,
   "metadata": {},
   "outputs": [
    {
     "data": {
      "image/png": "[encoded data removed]",
      "text/latex": [
       "$\\displaystyle \\frac{h \\left(2 f_{0}^{2} + 2 f_{0} f_{1} - f_{0} f_{2} + 8 f_{1}^{2} + 2 f_{1} f_{2} + 2 f_{2}^{2}\\right)}{15}$"
      ],
      "text/plain": [
       "  ⎛    2                         2                 2⎞\n",
       "h⋅⎝2⋅f₀  + 2⋅f₀⋅f₁ - f₀⋅f₂ + 8⋅f₁  + 2⋅f₁⋅f₂ + 2⋅f₂ ⎠\n",
       "─────────────────────────────────────────────────────\n",
       "                          15                         "
      ]
     },
     "execution_count": 76,
     "metadata": {},
     "output_type": "execute_result"
    }
   ],
   "source": [
    "psi_sq = expand(psi_qdd**2)\n",
    "exact_cost = simplify(integrate(psi_sq, (x, 0, h)))\n",
    "exact_cost"
   ]
  },
  {
   "cell_type": "markdown",
   "metadata": {},
   "source": [
    "### Expr nuevas"
   ]
  },
  {
   "cell_type": "code",
   "execution_count": 80,
   "metadata": {},
   "outputs": [
    {
     "data": {
      "image/png": "[encoded data removed]",
      "text/latex": [
       "$\\displaystyle \\frac{h}{2}$"
      ],
      "text/plain": [
       "h\n",
       "─\n",
       "2"
      ]
     },
     "execution_count": 80,
     "metadata": {},
     "output_type": "execute_result"
    }
   ],
   "source": [
    "h_2 = h*Rational(1,2)\n",
    "h_2"
   ]
  },
  {
   "cell_type": "code",
   "execution_count": 81,
   "metadata": {},
   "outputs": [
    {
     "data": {
      "image/png": "[encoded data removed]",
      "text/latex": [
       "$\\displaystyle \\frac{f_{0} h}{6} + \\frac{2 f_{1} h}{3} + \\frac{f_{2} h}{6} + x_{0}$"
      ],
      "text/plain": [
       "f₀⋅h   2⋅f₁⋅h   f₂⋅h     \n",
       "──── + ────── + ──── + x₀\n",
       " 6       3       6       "
      ]
     },
     "execution_count": 81,
     "metadata": {},
     "output_type": "execute_result"
    }
   ],
   "source": [
    "HS_x_n"
   ]
  },
  {
   "cell_type": "code",
   "execution_count": 82,
   "metadata": {},
   "outputs": [
    {
     "data": {
      "image/png": "[encoded data removed]",
      "text/latex": [
       "$\\displaystyle a + b x + c x^{2} + d x^{3} + e x^{4}$"
      ],
      "text/plain": [
       "             2      3      4\n",
       "a + b⋅x + c⋅x  + d⋅x  + e⋅x "
      ]
     },
     "execution_count": 82,
     "metadata": {},
     "output_type": "execute_result"
    }
   ],
   "source": [
    "f_x = abcpol(4)\n",
    "f_x"
   ]
  },
  {
   "cell_type": "code",
   "execution_count": 83,
   "metadata": {},
   "outputs": [
    {
     "data": {
      "image/png": "[encoded data removed]",
      "text/latex": [
       "$\\displaystyle f_{0} \\cdot \\left(1 - \\frac{3 x}{h} + \\frac{2 x^{2}}{h^{2}}\\right) + f_{1} \\cdot \\left(\\frac{4 x}{h} - \\frac{4 x^{2}}{h^{2}}\\right) + f_{2} \\left(- \\frac{x}{h} + \\frac{2 x^{2}}{h^{2}}\\right)$"
      ],
      "text/plain": [
       "   ⎛             2⎞      ⎛         2⎞      ⎛         2⎞\n",
       "   ⎜    3⋅x   2⋅x ⎟      ⎜4⋅x   4⋅x ⎟      ⎜  x   2⋅x ⎟\n",
       "f₀⋅⎜1 - ─── + ────⎟ + f₁⋅⎜─── - ────⎟ + f₂⋅⎜- ─ + ────⎟\n",
       "   ⎜     h      2 ⎟      ⎜ h      2 ⎟      ⎜  h     2 ⎟\n",
       "   ⎝           h  ⎠      ⎝       h  ⎠      ⎝       h  ⎠"
      ]
     },
     "execution_count": 83,
     "metadata": {},
     "output_type": "execute_result"
    }
   ],
   "source": [
    "psi_qdd = lagpol_sym(2).subs([\n",
    "    [symbols('x_0'), 0],\n",
    "    [symbols('x_1'), h_2],\n",
    "    [symbols('x_2'), h]    \n",
    "])\n",
    "psi_qdd"
   ]
  },
  {
   "cell_type": "code",
   "execution_count": 84,
   "metadata": {},
   "outputs": [
    {
     "data": {
      "image/png": "[encoded data removed]",
      "text/latex": [
       "$\\displaystyle a + b x + c x^{2} - \\frac{d h^{2} x}{2} + \\frac{3 d h x^{2}}{2} - \\frac{3 e h^{3} x}{4} + \\frac{7 e h^{2} x^{2}}{4}$"
      ],
      "text/plain": [
       "                    2            2        3          2  2\n",
       "             2   d⋅h ⋅x   3⋅d⋅h⋅x    3⋅e⋅h ⋅x   7⋅e⋅h ⋅x \n",
       "a + b⋅x + c⋅x  - ────── + ──────── - ──────── + ─────────\n",
       "                   2         2          4           4    "
      ]
     },
     "execution_count": 84,
     "metadata": {},
     "output_type": "execute_result"
    }
   ],
   "source": [
    "simplify(psi_qdd.subs([\n",
    "    [symbols('f_0'), f_x.subs(x, 0)],\n",
    "    [symbols('f_1'), f_x.subs(x, h_2)],\n",
    "    [symbols('f_2'), f_x.subs(x, h)],\n",
    "]))"
   ]
  },
  {
   "cell_type": "code",
   "execution_count": 85,
   "metadata": {},
   "outputs": [
    {
     "data": {
      "image/png": "[encoded data removed]",
      "text/latex": [
       "$\\displaystyle f_{0} x + \\dot{q}_{0} + \\frac{x^{2} \\left(- 3 f_{0} + 4 f_{1} - f_{2}\\right)}{2 h} + \\frac{x^{3} \\cdot \\left(2 f_{0} - 4 f_{1} + 2 f_{2}\\right)}{3 h^{2}}$"
      ],
      "text/plain": [
       "             2                        3                     \n",
       "            x ⋅(-3⋅f₀ + 4⋅f₁ - f₂)   x ⋅(2⋅f₀ - 4⋅f₁ + 2⋅f₂)\n",
       "f₀⋅x + q₀̇ + ────────────────────── + ───────────────────────\n",
       "                     2⋅h                          2         \n",
       "                                               3⋅h          "
      ]
     },
     "execution_count": 85,
     "metadata": {},
     "output_type": "execute_result"
    }
   ],
   "source": [
    "psi_v = integrate(psi_qdd, (x, 0, x))+v0\n",
    "psi_v"
   ]
  },
  {
   "cell_type": "code",
   "execution_count": 86,
   "metadata": {},
   "outputs": [
    {
     "data": {
      "image/png": "[encoded data removed]",
      "text/latex": [
       "$\\displaystyle a x + \\frac{x^{3} \\cdot \\left(4 c + 6 d h + 7 e h^{2}\\right)}{12} + \\frac{x^{2} \\cdot \\left(4 b - 2 d h^{2} - 3 e h^{3}\\right)}{8} + \\dot{q}_{0}$"
      ],
      "text/plain": [
       "       3 ⎛                   2⎞    2 ⎛           2        3⎞     \n",
       "      x ⋅⎝4⋅c + 6⋅d⋅h + 7⋅e⋅h ⎠   x ⋅⎝4⋅b - 2⋅d⋅h  - 3⋅e⋅h ⎠     \n",
       "a⋅x + ───────────────────────── + ────────────────────────── + q₀̇\n",
       "                  12                          8                  "
      ]
     },
     "execution_count": 86,
     "metadata": {},
     "output_type": "execute_result"
    }
   ],
   "source": [
    "psi_v_hs = simplify(psi_v.subs([\n",
    "    [symbols('f_0'), f_x.subs(x, 0)],\n",
    "    [symbols('f_1'), f_x.subs(x, h_2)],\n",
    "    [symbols('f_2'), f_x.subs(x, h)],\n",
    "]))\n",
    "psi_v_hs"
   ]
  },
  {
   "cell_type": "code",
   "execution_count": 87,
   "metadata": {},
   "outputs": [
    {
     "data": {
      "image/png": "[encoded data removed]",
      "text/latex": [
       "$\\displaystyle a h + \\frac{b h^{2}}{2} + \\frac{c h^{3}}{3} + \\frac{d h^{4}}{4} + \\frac{5 e h^{5}}{24} + \\dot{q}_{0}$"
      ],
      "text/plain": [
       "         2      3      4        5     \n",
       "      b⋅h    c⋅h    d⋅h    5⋅e⋅h      \n",
       "a⋅h + ──── + ──── + ──── + ────── + q₀̇\n",
       "       2      3      4       24       "
      ]
     },
     "execution_count": 87,
     "metadata": {},
     "output_type": "execute_result"
    }
   ],
   "source": [
    "psi_v_hs_h = simplify(psi_v_hs.subs(x,h))\n",
    "psi_v_hs_h"
   ]
  },
  {
   "cell_type": "code",
   "execution_count": 88,
   "metadata": {},
   "outputs": [
    {
     "data": {
      "image/png": "[encoded data removed]",
      "text/latex": [
       "$\\displaystyle a h + \\frac{b h^{2}}{2} + \\frac{c h^{3}}{3} + \\frac{d h^{4}}{4} + \\frac{e h^{5}}{5} + \\dot{q}_{0}$"
      ],
      "text/plain": [
       "         2      3      4      5     \n",
       "      b⋅h    c⋅h    d⋅h    e⋅h      \n",
       "a⋅h + ──── + ──── + ──── + ──── + q₀̇\n",
       "       2      3      4      5       "
      ]
     },
     "execution_count": 88,
     "metadata": {},
     "output_type": "execute_result"
    }
   ],
   "source": [
    "v_real = integrate(f_x, (x, 0, x))+v0\n",
    "v_real_h = v_real.subs(x, h)\n",
    "v_real_h"
   ]
  },
  {
   "cell_type": "code",
   "execution_count": 89,
   "metadata": {},
   "outputs": [
    {
     "data": {
      "image/png": "[encoded data removed]",
      "text/latex": [
       "$\\displaystyle \\frac{e h^{5}}{120}$"
      ],
      "text/plain": [
       "   5\n",
       "e⋅h \n",
       "────\n",
       "120 "
      ]
     },
     "execution_count": 89,
     "metadata": {},
     "output_type": "execute_result"
    }
   ],
   "source": [
    "err_HS1_v = psi_v_hs_h-v_real_h\n",
    "err_HS1_v"
   ]
  },
  {
   "cell_type": "code",
   "execution_count": 90,
   "metadata": {},
   "outputs": [
    {
     "data": {
      "image/png": "[encoded data removed]",
      "text/latex": [
       "$\\displaystyle f_{0} x + q_{0} + \\frac{x^{2} \\left(- 3 f_{0} + 4 f_{1} - f_{2}\\right)}{2 h} + \\frac{x^{3} \\cdot \\left(2 f_{0} - 4 f_{1} + 2 f_{2}\\right)}{3 h^{2}}$"
      ],
      "text/plain": [
       "             2                        3                     \n",
       "            x ⋅(-3⋅f₀ + 4⋅f₁ - f₂)   x ⋅(2⋅f₀ - 4⋅f₁ + 2⋅f₂)\n",
       "f₀⋅x + q₀ + ────────────────────── + ───────────────────────\n",
       "                     2⋅h                          2         \n",
       "                                               3⋅h          "
      ]
     },
     "execution_count": 90,
     "metadata": {},
     "output_type": "execute_result"
    }
   ],
   "source": [
    "psi_q = integrate(psi_qdd, (x, 0, x))+q0\n",
    "psi_q"
   ]
  },
  {
   "cell_type": "code",
   "execution_count": 91,
   "metadata": {},
   "outputs": [
    {
     "data": {
      "image/png": "[encoded data removed]",
      "text/latex": [
       "$\\displaystyle \\frac{x^{3} \\cdot \\left(4 b - 2 d h^{2} - 3 e h^{3} + h \\left(4 c + 6 d h + 7 e h^{2}\\right)\\right)}{24} + \\frac{x^{2} \\cdot \\left(24 a - h^{2} \\cdot \\left(4 c + 6 d h + 7 e h^{2}\\right)\\right)}{48} + x \\dot{q}_{0} + q_{0}$"
      ],
      "text/plain": [
       " 3 ⎛           2        3     ⎛                   2⎞⎞    2 ⎛        2 ⎛       \n",
       "x ⋅⎝4⋅b - 2⋅d⋅h  - 3⋅e⋅h  + h⋅⎝4⋅c + 6⋅d⋅h + 7⋅e⋅h ⎠⎠   x ⋅⎝24⋅a - h ⋅⎝4⋅c + 6\n",
       "───────────────────────────────────────────────────── + ──────────────────────\n",
       "                          24                                              48  \n",
       "\n",
       "            2⎞⎞            \n",
       "⋅d⋅h + 7⋅e⋅h ⎠⎠            \n",
       "─────────────── + x⋅q₀̇ + q₀\n",
       "                           "
      ]
     },
     "execution_count": 91,
     "metadata": {},
     "output_type": "execute_result"
    }
   ],
   "source": [
    "psi_q_hs = simplify(psi_q.subs([\n",
    "    [symbols('f_0'), psi_v_hs.subs(x, 0)],\n",
    "    [symbols('f_1'), psi_v_hs.subs(x, h_2)],\n",
    "    [symbols('f_2'), psi_v_hs.subs(x, h)],\n",
    "]))\n",
    "psi_q_hs"
   ]
  },
  {
   "cell_type": "code",
   "execution_count": 92,
   "metadata": {},
   "outputs": [
    {
     "data": {
      "image/png": "[encoded data removed]",
      "text/latex": [
       "$\\displaystyle \\frac{a h^{2}}{2} + \\frac{b h^{3}}{6} + \\frac{c h^{4}}{12} + \\frac{d h^{5}}{24} + \\frac{e h^{6}}{48} + h \\dot{q}_{0} + q_{0}$"
      ],
      "text/plain": [
       "   2      3      4      5      6            \n",
       "a⋅h    b⋅h    c⋅h    d⋅h    e⋅h             \n",
       "──── + ──── + ──── + ──── + ──── + h⋅q₀̇ + q₀\n",
       " 2      6      12     24     48             "
      ]
     },
     "execution_count": 92,
     "metadata": {},
     "output_type": "execute_result"
    }
   ],
   "source": [
    "q_hs_h = simplify(psi_q_hs.subs(x,h))\n",
    "q_hs_h"
   ]
  },
  {
   "cell_type": "code",
   "execution_count": 93,
   "metadata": {},
   "outputs": [
    {
     "data": {
      "image/png": "[encoded data removed]",
      "text/latex": [
       "$\\displaystyle \\frac{a h^{2}}{2} + \\frac{b h^{3}}{6} + \\frac{c h^{4}}{12} + \\frac{d h^{5}}{20} + \\frac{e h^{6}}{30} + h \\dot{q}_{0} + q_{0}$"
      ],
      "text/plain": [
       "   2      3      4      5      6            \n",
       "a⋅h    b⋅h    c⋅h    d⋅h    e⋅h             \n",
       "──── + ──── + ──── + ──── + ──── + h⋅q₀̇ + q₀\n",
       " 2      6      12     20     30             "
      ]
     },
     "execution_count": 93,
     "metadata": {},
     "output_type": "execute_result"
    }
   ],
   "source": [
    "q_real = integrate(integrate(f_x, (x, 0, xi))+v0, (xi, 0, x))+q0\n",
    "q_real_h = q_real.subs(x, h)\n",
    "q_real_h"
   ]
  },
  {
   "cell_type": "code",
   "execution_count": 94,
   "metadata": {},
   "outputs": [
    {
     "data": {
      "image/png": "[encoded data removed]",
      "text/latex": [
       "$\\displaystyle \\frac{d h^{5}}{120} + \\frac{e h^{6}}{80}$"
      ],
      "text/plain": [
       "   5      6\n",
       "d⋅h    e⋅h \n",
       "──── + ────\n",
       "120     80 "
      ]
     },
     "execution_count": 94,
     "metadata": {},
     "output_type": "execute_result"
    }
   ],
   "source": [
    "err_HS1_q = q_real_h- q_hs_h\n",
    "err_HS1_q"
   ]
  },
  {
   "cell_type": "markdown",
   "metadata": {},
   "source": [
    "### HS2"
   ]
  },
  {
   "cell_type": "code",
   "execution_count": 95,
   "metadata": {},
   "outputs": [
    {
     "data": {
      "image/png": "[encoded data removed]",
      "text/latex": [
       "$\\displaystyle \\frac{f_{0} x^{2}}{2} + x \\dot{q}_{0} + q_{0} + \\frac{x^{3} \\left(- 3 f_{0} + 4 f_{1} - f_{2}\\right)}{6 h} + \\frac{x^{4} \\left(f_{0} - 2 f_{1} + f_{2}\\right)}{6 h^{2}}$"
      ],
      "text/plain": [
       "    2                3                        4                 \n",
       "f₀⋅x                x ⋅(-3⋅f₀ + 4⋅f₁ - f₂)   x ⋅(f₀ - 2⋅f₁ + f₂)\n",
       "───── + x⋅q₀̇ + q₀ + ────────────────────── + ───────────────────\n",
       "  2                          6⋅h                        2       \n",
       "                                                     6⋅h        "
      ]
     },
     "execution_count": 95,
     "metadata": {},
     "output_type": "execute_result"
    }
   ],
   "source": [
    "psi_q_2 = integrate(integrate(psi_qdd, (x, 0, xi))+v0, (xi, 0, x))+q0\n",
    "psi_q_2"
   ]
  },
  {
   "cell_type": "code",
   "execution_count": 96,
   "metadata": {},
   "outputs": [
    {
     "data": {
      "image/png": "[encoded data removed]",
      "text/latex": [
       "$\\displaystyle \\frac{a x^{2}}{2} + x^{4} \\left(\\frac{c}{12} + \\frac{d h}{8} + \\frac{7 e h^{2}}{48}\\right) + x^{3} \\left(\\frac{b}{6} - \\frac{d h^{2}}{12} - \\frac{e h^{3}}{8}\\right) + x \\dot{q}_{0} + q_{0}$"
      ],
      "text/plain": [
       "   2      ⎛                2⎞      ⎛       2      3⎞            \n",
       "a⋅x     4 ⎜c    d⋅h   7⋅e⋅h ⎟    3 ⎜b   d⋅h    e⋅h ⎟            \n",
       "──── + x ⋅⎜── + ─── + ──────⎟ + x ⋅⎜─ - ──── - ────⎟ + x⋅q₀̇ + q₀\n",
       " 2        ⎝12    8      48  ⎠      ⎝6    12     8  ⎠            "
      ]
     },
     "execution_count": 96,
     "metadata": {},
     "output_type": "execute_result"
    }
   ],
   "source": [
    "psi_q_hs2 = simplify(psi_q_2.subs([\n",
    "    [symbols('f_0'), f_x.subs(x, 0)],\n",
    "    [symbols('f_1'), f_x.subs(x, h_2)],\n",
    "    [symbols('f_2'), f_x.subs(x, h)],\n",
    "]))\n",
    "psi_q_hs2"
   ]
  },
  {
   "cell_type": "code",
   "execution_count": 97,
   "metadata": {},
   "outputs": [
    {
     "data": {
      "image/png": "[encoded data removed]",
      "text/latex": [
       "$\\displaystyle \\frac{a h^{2}}{2} + \\frac{b h^{3}}{6} + \\frac{c h^{4}}{12} + \\frac{d h^{5}}{24} + \\frac{e h^{6}}{48} + h \\dot{q}_{0} + q_{0}$"
      ],
      "text/plain": [
       "   2      3      4      5      6            \n",
       "a⋅h    b⋅h    c⋅h    d⋅h    e⋅h             \n",
       "──── + ──── + ──── + ──── + ──── + h⋅q₀̇ + q₀\n",
       " 2      6      12     24     48             "
      ]
     },
     "execution_count": 97,
     "metadata": {},
     "output_type": "execute_result"
    }
   ],
   "source": [
    "q_hs2_h = simplify(psi_q_hs2.subs(x,h))\n",
    "q_hs2_h"
   ]
  },
  {
   "cell_type": "code",
   "execution_count": 98,
   "metadata": {},
   "outputs": [
    {
     "data": {
      "image/png": "[encoded data removed]",
      "text/latex": [
       "$\\displaystyle \\frac{a h^{2}}{2} + \\frac{b h^{3}}{6} + \\frac{c h^{4}}{12} + \\frac{d h^{5}}{20} + \\frac{e h^{6}}{30} + h \\dot{q}_{0} + q_{0}$"
      ],
      "text/plain": [
       "   2      3      4      5      6            \n",
       "a⋅h    b⋅h    c⋅h    d⋅h    e⋅h             \n",
       "──── + ──── + ──── + ──── + ──── + h⋅q₀̇ + q₀\n",
       " 2      6      12     20     30             "
      ]
     },
     "execution_count": 98,
     "metadata": {},
     "output_type": "execute_result"
    }
   ],
   "source": [
    "q_real_h"
   ]
  },
  {
   "cell_type": "code",
   "execution_count": 99,
   "metadata": {},
   "outputs": [
    {
     "data": {
      "image/png": "[encoded data removed]",
      "text/latex": [
       "$\\displaystyle \\frac{d h^{5}}{120} + \\frac{e h^{6}}{80}$"
      ],
      "text/plain": [
       "   5      6\n",
       "d⋅h    e⋅h \n",
       "──── + ────\n",
       "120     80 "
      ]
     },
     "execution_count": 99,
     "metadata": {},
     "output_type": "execute_result"
    }
   ],
   "source": [
    "err_HS2_q = q_real_h- q_hs2_h\n",
    "err_HS2_q"
   ]
  },
  {
   "cell_type": "markdown",
   "metadata": {},
   "source": [
    "#### GJ"
   ]
  },
  {
   "cell_type": "code",
   "execution_count": 100,
   "metadata": {},
   "outputs": [
    {
     "data": {
      "image/png": "[encoded data removed]",
      "text/latex": [
       "$\\displaystyle f_{0} \\cdot \\left(1 - \\frac{7 x}{2 h} + \\frac{5 x^{2}}{2 h^{2}}\\right) + f_{1} \\cdot \\left(\\frac{25 x}{6 h} - \\frac{25 x^{2}}{6 h^{2}}\\right) + f_{2} \\left(- \\frac{2 x}{3 h} + \\frac{5 x^{2}}{3 h^{2}}\\right)$"
      ],
      "text/plain": [
       "   ⎛             2⎞      ⎛           2⎞      ⎛           2⎞\n",
       "   ⎜    7⋅x   5⋅x ⎟      ⎜25⋅x   25⋅x ⎟      ⎜  2⋅x   5⋅x ⎟\n",
       "f₀⋅⎜1 - ─── + ────⎟ + f₁⋅⎜──── - ─────⎟ + f₂⋅⎜- ─── + ────⎟\n",
       "   ⎜    2⋅h      2⎟      ⎜6⋅h        2⎟      ⎜  3⋅h      2⎟\n",
       "   ⎝          2⋅h ⎠      ⎝        6⋅h ⎠      ⎝        3⋅h ⎠"
      ]
     },
     "execution_count": 100,
     "metadata": {},
     "output_type": "execute_result"
    }
   ],
   "source": [
    "psi_qdd_j"
   ]
  },
  {
   "cell_type": "code",
   "execution_count": 101,
   "metadata": {},
   "outputs": [
    {
     "data": {
      "image/png": "[encoded data removed]",
      "text/latex": [
       "$\\displaystyle f_{0} x + \\dot{q}_{0} + \\frac{x^{2} \\left(- 21 f_{0} + 25 f_{1} - 4 f_{2}\\right)}{12 h} + \\frac{x^{3} \\cdot \\left(15 f_{0} - 25 f_{1} + 10 f_{2}\\right)}{18 h^{2}}$"
      ],
      "text/plain": [
       "             2                            3                        \n",
       "            x ⋅(-21⋅f₀ + 25⋅f₁ - 4⋅f₂)   x ⋅(15⋅f₀ - 25⋅f₁ + 10⋅f₂)\n",
       "f₀⋅x + q₀̇ + ────────────────────────── + ──────────────────────────\n",
       "                       12⋅h                            2           \n",
       "                                                   18⋅h            "
      ]
     },
     "execution_count": 101,
     "metadata": {},
     "output_type": "execute_result"
    }
   ],
   "source": [
    "psi_qd_j = integrate(psi_qdd_j, (x, 0, x))+v0\n",
    "psi_qd_j"
   ]
  },
  {
   "cell_type": "code",
   "execution_count": 102,
   "metadata": {},
   "outputs": [
    {
     "data": {
      "image/png": "[encoded data removed]",
      "text/latex": [
       "$\\displaystyle \\frac{f_{0} x^{2}}{2} + x \\dot{q}_{0} + q_{0} + \\frac{x^{3} \\left(- 21 f_{0} + 25 f_{1} - 4 f_{2}\\right)}{36 h} + \\frac{x^{4} \\cdot \\left(15 f_{0} - 25 f_{1} + 10 f_{2}\\right)}{72 h^{2}}$"
      ],
      "text/plain": [
       "    2                3                            4                        \n",
       "f₀⋅x                x ⋅(-21⋅f₀ + 25⋅f₁ - 4⋅f₂)   x ⋅(15⋅f₀ - 25⋅f₁ + 10⋅f₂)\n",
       "───── + x⋅q₀̇ + q₀ + ────────────────────────── + ──────────────────────────\n",
       "  2                            36⋅h                            2           \n",
       "                                                           72⋅h            "
      ]
     },
     "execution_count": 102,
     "metadata": {},
     "output_type": "execute_result"
    }
   ],
   "source": [
    "psi_q_j"
   ]
  },
  {
   "cell_type": "code",
   "execution_count": 103,
   "metadata": {},
   "outputs": [
    {
     "data": {
      "image/png": "[encoded data removed]",
      "text/latex": [
       "$\\displaystyle a x + \\frac{x^{3} \\cdot \\left(25 c + 35 d h + 39 e h^{2}\\right)}{75} + \\frac{x^{2} \\cdot \\left(25 b - 10 d h^{2} - 14 e h^{3}\\right)}{50} + \\dot{q}_{0}$"
      ],
      "text/plain": [
       "       3 ⎛                      2⎞    2 ⎛             2         3⎞     \n",
       "      x ⋅⎝25⋅c + 35⋅d⋅h + 39⋅e⋅h ⎠   x ⋅⎝25⋅b - 10⋅d⋅h  - 14⋅e⋅h ⎠     \n",
       "a⋅x + ──────────────────────────── + ───────────────────────────── + q₀̇\n",
       "                   75                              50                  "
      ]
     },
     "execution_count": 103,
     "metadata": {},
     "output_type": "execute_result"
    }
   ],
   "source": [
    "psi_v_hsj = simplify(psi_qd_j.subs([\n",
    "    [symbols('f_0'), f_x.subs(x, 0)],\n",
    "    [symbols('f_1'), f_x.subs(x, hm)],\n",
    "    [symbols('f_2'), f_x.subs(x, h)],\n",
    "]))\n",
    "psi_v_hsj"
   ]
  },
  {
   "cell_type": "code",
   "execution_count": 104,
   "metadata": {},
   "outputs": [
    {
     "data": {
      "image/png": "[encoded data removed]",
      "text/latex": [
       "$\\displaystyle a h + \\frac{b h^{2}}{2} + \\frac{c h^{3}}{3} + \\frac{4 d h^{4}}{15} + \\frac{6 e h^{5}}{25} + \\dot{q}_{0}$"
      ],
      "text/plain": [
       "         2      3        4        5     \n",
       "      b⋅h    c⋅h    4⋅d⋅h    6⋅e⋅h      \n",
       "a⋅h + ──── + ──── + ────── + ────── + q₀̇\n",
       "       2      3       15       25       "
      ]
     },
     "execution_count": 104,
     "metadata": {},
     "output_type": "execute_result"
    }
   ],
   "source": [
    "psi_v_hsj_h = simplify(psi_v_hsj.subs(x,h))\n",
    "psi_v_hsj_h"
   ]
  },
  {
   "cell_type": "code",
   "execution_count": 105,
   "metadata": {},
   "outputs": [
    {
     "data": {
      "image/png": "[encoded data removed]",
      "text/latex": [
       "$\\displaystyle \\frac{d h^{4}}{60} + \\frac{e h^{5}}{25}$"
      ],
      "text/plain": [
       "   4      5\n",
       "d⋅h    e⋅h \n",
       "──── + ────\n",
       " 60     25 "
      ]
     },
     "execution_count": 105,
     "metadata": {},
     "output_type": "execute_result"
    }
   ],
   "source": [
    "err_HSJ_v = psi_v_hsj_h-v_real_h\n",
    "err_HSJ_v"
   ]
  },
  {
   "cell_type": "code",
   "execution_count": 106,
   "metadata": {},
   "outputs": [
    {
     "data": {
      "image/png": "[encoded data removed]",
      "text/latex": [
       "$\\displaystyle \\frac{a x^{2}}{2} + \\frac{x^{4} \\cdot \\left(25 c + 35 d h + 39 e h^{2}\\right)}{300} + \\frac{x^{3} \\cdot \\left(25 b - 10 d h^{2} - 14 e h^{3}\\right)}{150} + x \\dot{q}_{0} + q_{0}$"
      ],
      "text/plain": [
       "   2    4 ⎛                      2⎞    3 ⎛             2         3⎞           \n",
       "a⋅x    x ⋅⎝25⋅c + 35⋅d⋅h + 39⋅e⋅h ⎠   x ⋅⎝25⋅b - 10⋅d⋅h  - 14⋅e⋅h ⎠           \n",
       "──── + ──────────────────────────── + ───────────────────────────── + x⋅q₀̇ + \n",
       " 2                 300                             150                        \n",
       "\n",
       " \n",
       " \n",
       "q₀\n",
       " "
      ]
     },
     "execution_count": 106,
     "metadata": {},
     "output_type": "execute_result"
    }
   ],
   "source": [
    "psi_q_hsj = simplify(psi_q_j.subs([\n",
    "    [symbols('f_0'), f_x.subs(x, 0)],\n",
    "    [symbols('f_1'), f_x.subs(x, hm)],\n",
    "    [symbols('f_2'), f_x.subs(x, h)],\n",
    "]))\n",
    "psi_q_hsj"
   ]
  },
  {
   "cell_type": "code",
   "execution_count": 107,
   "metadata": {},
   "outputs": [
    {
     "data": {
      "image/png": "[encoded data removed]",
      "text/latex": [
       "$\\displaystyle \\frac{a h^{2}}{2} + \\frac{b h^{3}}{6} + \\frac{c h^{4}}{12} + \\frac{d h^{5}}{20} + \\frac{11 e h^{6}}{300} + h \\dot{q}_{0} + q_{0}$"
      ],
      "text/plain": [
       "   2      3      4      5         6            \n",
       "a⋅h    b⋅h    c⋅h    d⋅h    11⋅e⋅h             \n",
       "──── + ──── + ──── + ──── + ─────── + h⋅q₀̇ + q₀\n",
       " 2      6      12     20      300              "
      ]
     },
     "execution_count": 107,
     "metadata": {},
     "output_type": "execute_result"
    }
   ],
   "source": [
    "q_hsj_h = simplify(psi_q_hsj.subs(x,h))\n",
    "q_hsj_h"
   ]
  },
  {
   "cell_type": "code",
   "execution_count": 108,
   "metadata": {},
   "outputs": [
    {
     "data": {
      "image/png": "[encoded data removed]",
      "text/latex": [
       "$\\displaystyle - \\frac{e h^{6}}{300}$"
      ],
      "text/plain": [
       "    6 \n",
       "-e⋅h  \n",
       "──────\n",
       " 300  "
      ]
     },
     "execution_count": 108,
     "metadata": {},
     "output_type": "execute_result"
    }
   ],
   "source": [
    "err_HSJ_q = q_real_h- q_hsj_h\n",
    "err_HSJ_q"
   ]
  },
  {
   "cell_type": "code",
   "execution_count": 109,
   "metadata": {},
   "outputs": [
    {
     "data": {
      "image/png": "[encoded data removed]",
      "text/latex": [
       "$\\displaystyle \\frac{h \\left(27 f_{0}^{2} - 18 f_{0} f_{2} + 125 f_{1}^{2} + 50 f_{1} f_{2} + 32 f_{2}^{2}\\right)}{216}$"
      ],
      "text/plain": [
       "  ⎛     2                    2                   2⎞\n",
       "h⋅⎝27⋅f₀  - 18⋅f₀⋅f₂ + 125⋅f₁  + 50⋅f₁⋅f₂ + 32⋅f₂ ⎠\n",
       "───────────────────────────────────────────────────\n",
       "                        216                        "
      ]
     },
     "execution_count": 109,
     "metadata": {},
     "output_type": "execute_result"
    }
   ],
   "source": [
    "psi_sq_j = expand(psi_qdd_j**2)\n",
    "exact_cost_hsj = simplify(integrate(psi_sq_j, (x, 0, h)))\n",
    "exact_cost_hsj"
   ]
  },
  {
   "cell_type": "code",
   "execution_count": 110,
   "metadata": {},
   "outputs": [
    {
     "data": {
      "text/plain": [
       "'(1/216)*h*(27*f_0**2 - 18*f_0*f_2 + 125*f_1**2 + 50*f_1*f_2 + 32*f_2**2)'"
      ]
     },
     "execution_count": 110,
     "metadata": {},
     "output_type": "execute_result"
    }
   ],
   "source": [
    "np_printer(exact_cost_hsj)"
   ]
  },
  {
   "cell_type": "code",
   "execution_count": 111,
   "metadata": {},
   "outputs": [
    {
     "data": {
      "text/plain": [
       "'(1/15)*h*(2*f_0**2 + 2*f_0*f_1 - f_0*f_2 + 8*f_1**2 + 2*f_1*f_2 + 2*f_2**2)'"
      ]
     },
     "execution_count": 111,
     "metadata": {},
     "output_type": "execute_result"
    }
   ],
   "source": [
    "np_printer(exact_cost)"
   ]
  },
  {
   "cell_type": "code",
   "execution_count": 112,
   "metadata": {},
   "outputs": [
    {
     "data": {
      "image/png": "[encoded data removed]",
      "text/latex": [
       "$\\displaystyle f_{0} \\cdot \\left(1 - \\frac{x}{h}\\right) + \\frac{f_{1} x}{h}$"
      ],
      "text/plain": [
       "   ⎛    x⎞   f₁⋅x\n",
       "f₀⋅⎜1 - ─⎟ + ────\n",
       "   ⎝    h⎠    h  "
      ]
     },
     "execution_count": 112,
     "metadata": {},
     "output_type": "execute_result"
    }
   ],
   "source": [
    "psi_qdd_tz = lagpol_sym(1).subs([\n",
    "    [symbols('x_0'), 0],\n",
    "    [symbols('x_1'), h]    \n",
    "])\n",
    "psi_qdd_tz"
   ]
  },
  {
   "cell_type": "code",
   "execution_count": 113,
   "metadata": {},
   "outputs": [
    {
     "data": {
      "image/png": "[encoded data removed]",
      "text/latex": [
       "$\\displaystyle \\frac{h \\left(f_{0}^{2} + f_{0} f_{1} + f_{1}^{2}\\right)}{3}$"
      ],
      "text/plain": [
       "  ⎛  2             2⎞\n",
       "h⋅⎝f₀  + f₀⋅f₁ + f₁ ⎠\n",
       "─────────────────────\n",
       "          3          "
      ]
     },
     "execution_count": 113,
     "metadata": {},
     "output_type": "execute_result"
    }
   ],
   "source": [
    "psi_sq_tz = expand(psi_qdd_tz**2)\n",
    "exact_cost_tz = simplify(integrate(psi_sq_tz, (x, 0, h)))\n",
    "exact_cost_tz"
   ]
  },
  {
   "cell_type": "code",
   "execution_count": 114,
   "metadata": {},
   "outputs": [
    {
     "data": {
      "text/plain": [
       "'(1/3)*h*(f_0**2 + f_0*f_1 + f_1**2)'"
      ]
     },
     "execution_count": 114,
     "metadata": {},
     "output_type": "execute_result"
    }
   ],
   "source": [
    "np_printer(exact_cost_tz)"
   ]
  },
  {
   "cell_type": "code",
   "execution_count": null,
   "metadata": {},
   "outputs": [],
   "source": []
  },
  {
   "cell_type": "code",
   "execution_count": 115,
   "metadata": {},
   "outputs": [
    {
     "data": {
      "image/png": "[encoded data removed]",
      "text/latex": [
       "$\\displaystyle \\left( \\dot{q}_{0}, \\  \\dot{q}_c, \\  \\dot{q}_{1}\\right)$"
      ],
      "text/plain": [
       "(q₀̇, \\dot{q}_c, q₁̇)"
      ]
     },
     "execution_count": 115,
     "metadata": {},
     "output_type": "execute_result"
    }
   ],
   "source": [
    "vc = symbols('\\dot{q}_c')\n",
    "v0, vc, vn"
   ]
  },
  {
   "cell_type": "code",
   "execution_count": 116,
   "metadata": {},
   "outputs": [
    {
     "data": {
      "image/png": "[encoded data removed]",
      "text/latex": [
       "$\\displaystyle \\left( f_{0}, \\  f_{c}, \\  f_{1}\\right)$"
      ],
      "text/plain": [
       "(f₀, f_c, f₁)"
      ]
     },
     "execution_count": 116,
     "metadata": {},
     "output_type": "execute_result"
    }
   ],
   "source": [
    "f0, fc, fn = symbols('f_0 f_c f_1')\n",
    "f0, fc, fn"
   ]
  },
  {
   "cell_type": "code",
   "execution_count": 117,
   "metadata": {},
   "outputs": [
    {
     "data": {
      "image/png": "[encoded data removed]",
      "text/latex": [
       "$\\displaystyle \\frac{h \\left(4 \\dot{q}_c + \\dot{q}_{0} + \\dot{q}_{1}\\right)}{6}$"
      ],
      "text/plain": [
       "h⋅(4⋅\\dot{q}_c + q₀̇ + q₁̇)\n",
       "─────────────────────────\n",
       "            6            "
      ]
     },
     "execution_count": 117,
     "metadata": {},
     "output_type": "execute_result"
    }
   ],
   "source": [
    "_aa = h/6*(v0+4*vc+vn)\n",
    "_aa"
   ]
  },
  {
   "cell_type": "code",
   "execution_count": 118,
   "metadata": {},
   "outputs": [
    {
     "data": {
      "image/png": "[encoded data removed]",
      "text/latex": [
       "$\\displaystyle \\frac{h \\left(f_{0} + f_{1} + 4 f_{c}\\right)}{6}$"
      ],
      "text/plain": [
       "h⋅(f₀ + f₁ + 4⋅f_c)\n",
       "───────────────────\n",
       "         6         "
      ]
     },
     "execution_count": 118,
     "metadata": {},
     "output_type": "execute_result"
    }
   ],
   "source": [
    "expl_vn = h/6*(f0+4*fc+fn)\n",
    "expl_vn"
   ]
  },
  {
   "cell_type": "code",
   "execution_count": 119,
   "metadata": {},
   "outputs": [
    {
     "data": {
      "image/png": "[encoded data removed]",
      "text/latex": [
       "$\\displaystyle \\frac{h \\left(5 f_{0} - f_{1} + 8 f_{c}\\right)}{24} + \\dot{q}_{0}$"
      ],
      "text/plain": [
       "h⋅(5⋅f₀ - f₁ + 8⋅f_c)     \n",
       "───────────────────── + q₀̇\n",
       "          24              "
      ]
     },
     "execution_count": 119,
     "metadata": {},
     "output_type": "execute_result"
    }
   ],
   "source": [
    "expl_vc = v0 + h/24*(5*f0+8*fc-fn)\n",
    "expl_vc"
   ]
  },
  {
   "cell_type": "code",
   "execution_count": 120,
   "metadata": {},
   "outputs": [
    {
     "data": {
      "image/png": "[encoded data removed]",
      "text/latex": [
       "$\\displaystyle \\frac{f_{0} h^{2}}{6} + \\frac{f_{c} h^{2}}{3} + \\frac{5 h \\dot{q}_{0}}{6}$"
      ],
      "text/plain": [
       "    2        2         \n",
       "f₀⋅h    f_c⋅h    5⋅h⋅q₀̇\n",
       "───── + ────── + ──────\n",
       "  6       3        6   "
      ]
     },
     "execution_count": 120,
     "metadata": {},
     "output_type": "execute_result"
    }
   ],
   "source": [
    "_bb = _aa.subs([\n",
    "    [vn, expl_vn],\n",
    "    [vc, expl_vc],\n",
    "])\n",
    "_bb.expand()"
   ]
  },
  {
   "cell_type": "code",
   "execution_count": 121,
   "metadata": {},
   "outputs": [
    {
     "data": {
      "image/png": "[encoded data removed]",
      "text/latex": [
       "$\\displaystyle \\frac{h \\left(\\frac{h \\left(f_{0} + f_{1} + 4 f_{c}\\right)}{6} + \\frac{h \\left(5 f_{0} - f_{1} + 8 f_{c}\\right)}{6} + 5 \\dot{q}_{0}\\right)}{6}$"
      ],
      "text/plain": [
       "  ⎛h⋅(f₀ + f₁ + 4⋅f_c)   h⋅(5⋅f₀ - f₁ + 8⋅f_c)       ⎞\n",
       "h⋅⎜─────────────────── + ───────────────────── + 5⋅q₀̇⎟\n",
       "  ⎝         6                      6                 ⎠\n",
       "──────────────────────────────────────────────────────\n",
       "                          6                           "
      ]
     },
     "execution_count": 121,
     "metadata": {},
     "output_type": "execute_result"
    }
   ],
   "source": [
    "_bb"
   ]
  },
  {
   "cell_type": "code",
   "execution_count": null,
   "metadata": {},
   "outputs": [],
   "source": []
  },
  {
   "cell_type": "code",
   "execution_count": null,
   "metadata": {},
   "outputs": [],
   "source": []
  },
  {
   "cell_type": "code",
   "execution_count": null,
   "metadata": {},
   "outputs": [],
   "source": []
  },
  {
   "cell_type": "code",
   "execution_count": 122,
   "metadata": {},
   "outputs": [
    {
     "data": {
      "image/png": "[encoded data removed]",
      "text/latex": [
       "$\\displaystyle \\left( \\frac{2 h}{5}, \\  \\frac{h}{2}\\right)$"
      ],
      "text/plain": [
       "⎛2⋅h  h⎞\n",
       "⎜───, ─⎟\n",
       "⎝ 5   2⎠"
      ]
     },
     "execution_count": 122,
     "metadata": {},
     "output_type": "execute_result"
    }
   ],
   "source": [
    "hm, h_2"
   ]
  },
  {
   "cell_type": "code",
   "execution_count": 123,
   "metadata": {},
   "outputs": [
    {
     "data": {
      "image/png": "[encoded data removed]",
      "text/latex": [
       "$\\displaystyle \\frac{3 f_{0}}{25} + \\frac{24 f_{1}}{25} - \\frac{2 f_{2}}{25}$"
      ],
      "text/plain": [
       "3⋅f₀   24⋅f₁   2⋅f₂\n",
       "──── + ───── - ────\n",
       " 25      25     25 "
      ]
     },
     "execution_count": 123,
     "metadata": {},
     "output_type": "execute_result"
    }
   ],
   "source": [
    "psi_qdd.subs(x, hm)"
   ]
  },
  {
   "cell_type": "code",
   "execution_count": 124,
   "metadata": {},
   "outputs": [
    {
     "data": {
      "image/png": "[encoded data removed]",
      "text/latex": [
       "$\\displaystyle - \\frac{f_{0}}{8} + \\frac{25 f_{1}}{24} + \\frac{f_{2}}{12}$"
      ],
      "text/plain": [
       "  f₀   25⋅f₁   f₂\n",
       "- ── + ───── + ──\n",
       "  8      24    12"
      ]
     },
     "execution_count": 124,
     "metadata": {},
     "output_type": "execute_result"
    }
   ],
   "source": [
    "psi_qdd_j.subs(x, h_2)"
   ]
  },
  {
   "cell_type": "code",
   "execution_count": null,
   "metadata": {},
   "outputs": [],
   "source": []
  },
  {
   "cell_type": "code",
   "execution_count": null,
   "metadata": {},
   "outputs": [],
   "source": []
  }
 ],
 "metadata": {
  "kernelspec": {
   "display_name": "Python 3 (ipykernel)",
   "language": "python",
   "name": "python3"
  },
  "language_info": {
   "codemirror_mode": {
    "name": "ipython",
    "version": 3
   },
   "file_extension": ".py",
   "mimetype": "text/x-python",
   "name": "python",
   "nbconvert_exporter": "python",
   "pygments_lexer": "ipython3",
   "version": "3.11.3"
  }
 },
 "nbformat": 4,
 "nbformat_minor": 4
}
