{
 "cells": [
  {
   "cell_type": "markdown",
   "metadata": {},
   "source": [
    "### Setting up the work enviroment"
   ]
  },
  {
   "cell_type": "code",
   "execution_count": 1,
   "metadata": {},
   "outputs": [],
   "source": [
    "from sympy import (symbols, pi, I, E, cos, sin, exp, tan, simplify, expand, factor, collect,\n",
    "                   apart, cancel, expand_trig, diff, Derivative, Function, integrate, limit,\n",
    "                   series, Eq, solve, dsolve, Matrix, N, preorder_traversal, Float, solve_linear_system,\n",
    "                   eye, zeros, lambdify)\n",
    "from sympy.physics.mechanics import dynamicsymbols, init_vprinting"
   ]
  },
  {
   "cell_type": "code",
   "execution_count": 2,
   "metadata": {},
   "outputs": [],
   "source": [
    "from scipy.special import roots_jacobi"
   ]
  },
  {
   "cell_type": "code",
   "execution_count": 3,
   "metadata": {},
   "outputs": [],
   "source": [
    "init_vprinting()"
   ]
  },
  {
   "cell_type": "code",
   "execution_count": 4,
   "metadata": {},
   "outputs": [],
   "source": [
    "x, xi = symbols('x xi')"
   ]
  },
  {
   "cell_type": "code",
   "execution_count": 5,
   "metadata": {},
   "outputs": [],
   "source": [
    "def x_roots(n):\n",
    "    return roots_jacobi(n+1, 1, 0)[0]\n",
    "def element(x, xm, xj):\n",
    "    return (x-xm)/(xj-xm)\n",
    "\n",
    "def L_pol(j,k):\n",
    "    prod = 1\n",
    "    #x_list = symbols(f'x_0:{k+1}')\n",
    "    x_list = x_roots(k)\n",
    "    for m in range(k+1):\n",
    "        if m != j:\n",
    "            prod *= element(x, x_list[m], x_list[j])\n",
    "    return expand(prod) \n",
    "\n",
    "def L_pol_sym(j,k):\n",
    "    prod = 1\n",
    "    x_list = symbols(f'x_0:{k+1}')\n",
    "    #x_list = x_roots(k)\n",
    "    for m in range(k+1):\n",
    "        if m != j:\n",
    "            prod *= element(x, x_list[m], x_list[j])\n",
    "    return expand(prod) \n",
    "\n",
    "def lagpol(n):\n",
    "    sumat = 0\n",
    "    q_list = symbols(f'f_0:{n+2}')\n",
    "    for ii in range(n+1):\n",
    "        sumat += L_pol(ii, n)*q_list[ii]\n",
    "    return sumat\n",
    "\n",
    "def lagpol_sym(n):\n",
    "    sumat = 0\n",
    "    q_list = symbols(f'f_0:{n+2}')\n",
    "    for ii in range(n+1):\n",
    "        sumat += L_pol_sym(ii, n)*q_list[ii]\n",
    "    return sumat\n",
    "\n",
    "def abcpol(n):\n",
    "    abc = symbols(f'a b c d e f g h i j k l m n o p q r s t u v w a_0:{max(0,n-22)}')\n",
    "    sumat = 0\n",
    "    for ii in range(n+1):\n",
    "        sumat += abc[ii]*x**ii\n",
    "    return sumat\n",
    "\n",
    "def lagpol_abc(n):\n",
    "    sumat = 0\n",
    "    x_list = x_roots(n)\n",
    "    abc = abcpol(2*n-1)\n",
    "    q_list = [abc.subs(x, x_list[ii]) for ii in range(n+1)]\n",
    "    for ii in range(n+1):\n",
    "        sumat += L_pol(ii, n)*q_list[ii]\n",
    "    return sumat"
   ]
  },
  {
   "cell_type": "markdown",
   "metadata": {},
   "source": [
    "## Theory\n",
    "\n",
    "We want to use a polynomial approximation $\\psi(x)$ of $f(x)$ so that:\n",
    "\n",
    "$$\\int_{-1}^1 \\int_{-1}^{\\xi}f(x)\\text{ }dx \\text{ }d\\xi \\approx \\int_{-1}^1 \\int_{-1}^{\\xi}\\psi(x)\\text{ }dx \\text{ }d\\xi$$\n",
    "\n",
    "The polynomial $\\psi(x)$ has degree $n-1$ and is equal to $f(x)$ at $n$ points $x_i$. Therefore can be expressed as a sum of lagrange polynomials:\n",
    "\n",
    "$$\\psi(x) = \\sum_{i=0}^{n-1} f(x_i) L_i^{n-1}(x)$$\n",
    "\n",
    "If we define $S_i^n$ as $\\int_{-1}^1 \\int_{-1}^{\\xi}L_i^n(x)\\text{ }dx \\text{ }d\\xi$ :\n",
    "\n",
    "$$\\int_{-1}^1 \\int_{-1}^{\\xi}f(x)\\text{ }dx \\text{ }d\\xi \\approx \\int_{-1}^1 \\int_{-1}^{\\xi}\\sum_{i=0}^{n-1} f(x_i) L_i^{n-1}(x)\\text{ }dx \\text{ }d\\xi =\\sum_{i=0}^{n-1} S_i^{n-1} f(x_i)$$\n",
    "\n",
    "Therefore, finding the best points $x_i$ is the same problem as finding the best quadrature: \n",
    "$$\\int_{-1}^1 \\int_{-1}^{\\xi}f(x)\\text{ }dx \\text{ }d\\xi \\approx\\sum_{i=0}^{n-1}w_if(x_i).$$\n",
    "\n",
    "Using integration by parts we get:\n",
    "$$\\begin{align}\n",
    "\\int_{-1}^1 \\int_{-1}^{\\xi}f(t)\\mathrm dt \\mathrm d\\xi &=\\left[\\xi \\int_{-1}^{\\xi}f(t)\\mathrm dt\\right]_{-1}^1 - \\int_{-1}^1 \\xi f(\\xi)\\mathrm d\\xi\\\\\n",
    "&= \\int_{-1}^1 (1-\\xi)f(\\xi)\\mathrm d\\xi\\\\\n",
    "&\\approx \\sum_{i=0}^{n-1} w_if(x_i)\n",
    "\\end{align}$$\n",
    "\n",
    "Which can be treated using a [Gauss-Jacobi Quadrature](https://www.wikiwand.com/en/Gauss%E2%80%93Jacobi_quadrature) with $\\alpha = 1$, $\\beta = 0$, where the $x_i$ are then the roots of the corresponding Jacobi Polynomial.\n",
    "\n",
    "## Example: n = 2\n",
    "\n",
    "With n=2, we can approximate a polynomial of degree 2n-1 = 3 with a polynomial of degree n-1 = 1\n",
    "\n",
    "$$ f(x) = a + b x + c x^{2} + d x^{3}$$\n",
    "$$\\psi(x) = f_0 L_0^1  + f_1 L_1^1$$"
   ]
  },
  {
   "cell_type": "code",
   "execution_count": 6,
   "metadata": {},
   "outputs": [
    {
     "data": {
      "image/png": "[encoded data removed]",
      "text/latex": [
       "$\\displaystyle f_{0} \\left(\\frac{x}{x_{0} - x_{1}} - \\frac{x_{1}}{x_{0} - x_{1}}\\right) + f_{1} \\left(\\frac{x}{- x_{0} + x_{1}} - \\frac{x_{0}}{- x_{0} + x_{1}}\\right)$"
      ],
      "text/plain": [
       "   ⎛   x         x₁  ⎞      ⎛   x          x₀   ⎞\n",
       "f₀⋅⎜─────── - ───────⎟ + f₁⋅⎜──────── - ────────⎟\n",
       "   ⎝x₀ - x₁   x₀ - x₁⎠      ⎝-x₀ + x₁   -x₀ + x₁⎠"
      ]
     },
     "execution_count": 6,
     "metadata": {},
     "output_type": "execute_result"
    }
   ],
   "source": [
    "psi = lagpol_sym(1)\n",
    "psi"
   ]
  },
  {
   "cell_type": "code",
   "execution_count": 7,
   "metadata": {},
   "outputs": [
    {
     "data": {
      "image/png": "[encoded data removed]",
      "text/latex": [
       "$\\displaystyle a + b x + c x^{2} + d x^{3}$"
      ],
      "text/plain": [
       "             2      3\n",
       "a + b⋅x + c⋅x  + d⋅x "
      ]
     },
     "execution_count": 7,
     "metadata": {},
     "output_type": "execute_result"
    }
   ],
   "source": [
    "f = abcpol(3)\n",
    "f"
   ]
  },
  {
   "cell_type": "markdown",
   "metadata": {},
   "source": [
    "Calculating the integrals:"
   ]
  },
  {
   "cell_type": "code",
   "execution_count": 8,
   "metadata": {},
   "outputs": [
    {
     "data": {
      "image/png": "[encoded data removed]",
      "text/latex": [
       "$\\displaystyle \\frac{2 \\left(f_{0} - f_{1}\\right)}{6 x_{0} - 6 x_{1}} + \\frac{2 \\left(- 2 f_{0} x_{1} - f_{0} + 2 f_{1} x_{0} + f_{1}\\right)}{2 x_{0} - 2 x_{1}}$"
      ],
      "text/plain": [
       "2⋅(f₀ - f₁)   2⋅(-2⋅f₀⋅x₁ - f₀ + 2⋅f₁⋅x₀ + f₁)\n",
       "─────────── + ────────────────────────────────\n",
       "6⋅x₀ - 6⋅x₁             2⋅x₀ - 2⋅x₁           "
      ]
     },
     "execution_count": 8,
     "metadata": {},
     "output_type": "execute_result"
    }
   ],
   "source": [
    "psi_ii = integrate(integrate(psi, (x, -1, xi)), (xi, -1, 1))\n",
    "psi_ii"
   ]
  },
  {
   "cell_type": "code",
   "execution_count": 9,
   "metadata": {},
   "outputs": [
    {
     "data": {
      "image/png": "[encoded data removed]",
      "text/latex": [
       "$\\displaystyle 2 a - \\frac{2 b}{3} + \\frac{2 c}{3} - \\frac{2 d}{5}$"
      ],
      "text/plain": [
       "      2⋅b   2⋅c   2⋅d\n",
       "2⋅a - ─── + ─── - ───\n",
       "       3     3     5 "
      ]
     },
     "execution_count": 9,
     "metadata": {},
     "output_type": "execute_result"
    }
   ],
   "source": [
    "f_ii = integrate(integrate(f, (x, -1, xi)), (xi, -1, 1))\n",
    "f_ii"
   ]
  },
  {
   "cell_type": "markdown",
   "metadata": {},
   "source": [
    "We can substitute $f_0$ and $f_1$ by the values of $f(x_0)$ and $f(x_1)$ on the integrated expression of $\\psi$:"
   ]
  },
  {
   "cell_type": "code",
   "execution_count": 10,
   "metadata": {},
   "outputs": [
    {
     "data": {
      "image/png": "[encoded data removed]",
      "text/latex": [
       "$\\displaystyle 2 a - \\frac{2 b}{3} - 2 c x_{0} x_{1} - \\frac{2 c x_{0}}{3} - \\frac{2 c x_{1}}{3} - 2 d x_{0}^{2} x_{1} - \\frac{2 d x_{0}^{2}}{3} - 2 d x_{0} x_{1}^{2} - \\frac{2 d x_{0} x_{1}}{3} - \\frac{2 d x_{1}^{2}}{3}$"
      ],
      "text/plain": [
       "                                                             2                \n",
       "      2⋅b               2⋅c⋅x₀   2⋅c⋅x₁         2      2⋅d⋅x₀             2   \n",
       "2⋅a - ─── - 2⋅c⋅x₀⋅x₁ - ────── - ────── - 2⋅d⋅x₀ ⋅x₁ - ─────── - 2⋅d⋅x₀⋅x₁  - \n",
       "       3                  3        3                      3                   \n",
       "\n",
       "                  2\n",
       "2⋅d⋅x₀⋅x₁   2⋅d⋅x₁ \n",
       "───────── - ───────\n",
       "    3          3   "
      ]
     },
     "execution_count": 10,
     "metadata": {},
     "output_type": "execute_result"
    }
   ],
   "source": [
    "psi_ii = simplify(psi_ii.subs((\n",
    "    [symbols('f_0'), f.subs(x, symbols('x_0'))],\n",
    "    [symbols('f_1'), f.subs(x, symbols('x_1'))]\n",
    ")))\n",
    "psi_ii"
   ]
  },
  {
   "cell_type": "markdown",
   "metadata": {},
   "source": [
    "By choosing the correct $x_i$, we are able to make both integrals have the same value for any value of $a, b, c$ and $d$.\n",
    "In this case, the roots of the jacobi polynomial are:"
   ]
  },
  {
   "cell_type": "code",
   "execution_count": 11,
   "metadata": {},
   "outputs": [
    {
     "data": {
      "text/plain": [
       "array([-0.68989795,  0.28989795])"
      ]
     },
     "execution_count": 11,
     "metadata": {},
     "output_type": "execute_result"
    }
   ],
   "source": [
    "roots_jacobi(2, 1, 0)[0]"
   ]
  },
  {
   "cell_type": "markdown",
   "metadata": {},
   "source": [
    "If we use them as the values of $x_i$:"
   ]
  },
  {
   "cell_type": "code",
   "execution_count": 12,
   "metadata": {},
   "outputs": [
    {
     "data": {
      "image/png": "[encoded data removed]",
      "text/latex": [
       "$\\displaystyle 2.0 a - 0.666666666666667 b + 0.666666666666667 c - 0.4 d$"
      ],
      "text/plain": [
       "2.0⋅a - 0.666666666666667⋅b + 0.666666666666667⋅c - 0.4⋅d"
      ]
     },
     "execution_count": 12,
     "metadata": {},
     "output_type": "execute_result"
    }
   ],
   "source": [
    "psi_ii_num = simplify(psi_ii.subs((\n",
    "    [symbols('x_0'), roots_jacobi(2, 1, 0)[0][0]],\n",
    "    [symbols('x_1'), roots_jacobi(2, 1, 0)[0][1]]\n",
    ")))\n",
    "psi_ii_num"
   ]
  },
  {
   "cell_type": "markdown",
   "metadata": {},
   "source": [
    "We can observe that we obtain the same value as the integral of $f(x)$, up to numerical accuracy:"
   ]
  },
  {
   "cell_type": "code",
   "execution_count": 13,
   "metadata": {},
   "outputs": [
    {
     "data": {
      "image/png": "[encoded data removed]",
      "text/latex": [
       "$\\displaystyle 2 a - \\frac{2 b}{3} + \\frac{2 c}{3} - \\frac{2 d}{5}$"
      ],
      "text/plain": [
       "      2⋅b   2⋅c   2⋅d\n",
       "2⋅a - ─── + ─── - ───\n",
       "       3     3     5 "
      ]
     },
     "execution_count": 13,
     "metadata": {},
     "output_type": "execute_result"
    }
   ],
   "source": [
    "f_ii"
   ]
  },
  {
   "cell_type": "markdown",
   "metadata": {},
   "source": [
    "### Higher Order\n",
    "\n",
    "We can observe that we can approximate polynomials of degree 2n-1 exactly up to numerical accuracy"
   ]
  },
  {
   "cell_type": "code",
   "execution_count": 14,
   "metadata": {},
   "outputs": [
    {
     "data": {
      "image/png": "[encoded data removed]",
      "text/latex": [
       "$\\displaystyle 2.17603712826531 \\cdot 10^{-14} a + 6.10622663543836 \\cdot 10^{-15} c + 2.22044604925031 \\cdot 10^{-16} d + 1.60982338570648 \\cdot 10^{-15} e + 5.88418203051333 \\cdot 10^{-15} f - 2.44249065417534 \\cdot 10^{-15} g + 1.08246744900953 \\cdot 10^{-14} h - 7.21644966006352 \\cdot 10^{-16} i + 3.99680288865056 \\cdot 10^{-15} j - 2.88657986402541 \\cdot 10^{-15} k + 2.38697950294409 \\cdot 10^{-15} l - 5.68989300120393 \\cdot 10^{-15} m + 2.41473507855972 \\cdot 10^{-15} n - 3.41393580072236 \\cdot 10^{-15} o + 6.64746035994312 \\cdot 10^{-15} p - 4.35762537165374 \\cdot 10^{-15} q + 3.59434704222394 \\cdot 10^{-15} r - 3.66373598126302 \\cdot 10^{-15} s + 3.5527136788005 \\cdot 10^{-15} t$"
      ],
      "text/plain": [
       "2.17603712826531e-14⋅a + 6.10622663543836e-15⋅c + 2.22044604925031e-16⋅d + 1.6\n",
       "0982338570648e-15⋅e + 5.88418203051333e-15⋅f - 2.44249065417534e-15⋅g + 1.0824\n",
       "6744900953e-14⋅h - 7.21644966006352e-16⋅i + 3.99680288865056e-15⋅j - 2.8865798\n",
       "6402541e-15⋅k + 2.38697950294409e-15⋅l - 5.68989300120393e-15⋅m + 2.4147350785\n",
       "5972e-15⋅n - 3.41393580072236e-15⋅o + 6.64746035994312e-15⋅p - 4.3576253716537\n",
       "4e-15⋅q + 3.59434704222394e-15⋅r - 3.66373598126302e-15⋅s + 3.5527136788005e-1\n",
       "5⋅t"
      ]
     },
     "execution_count": 14,
     "metadata": {},
     "output_type": "execute_result"
    }
   ],
   "source": [
    "n = 10\n",
    "\n",
    "f_new = abcpol(2*n-1)\n",
    "psi_new = lagpol_abc(n)\n",
    "\n",
    "f_new_ii = integrate(integrate(f_new, (x, -1, xi)), (xi, -1, 1))\n",
    "psi_new_ii = integrate(integrate(psi_new, (x, -1, xi)), (xi, -1, 1))\n",
    "\n",
    "f_new_ii-psi_new_ii"
   ]
  },
  {
   "cell_type": "code",
   "execution_count": null,
   "metadata": {},
   "outputs": [],
   "source": []
  },
  {
   "cell_type": "code",
   "execution_count": 15,
   "metadata": {},
   "outputs": [],
   "source": [
    "from sympy import jacobi_poly"
   ]
  },
  {
   "cell_type": "code",
   "execution_count": 19,
   "metadata": {},
   "outputs": [
    {
     "data": {
      "image/png": "[encoded data removed]",
      "text/latex": [
       "$\\displaystyle \\operatorname{PurePoly}{\\left( \\frac{5}{2} x + \\frac{1}{2}, x, domain=\\mathbb{Q} \\right)}$"
      ],
      "text/plain": [
       "PurePoly(5/2*_x + 1/2, _x, domain='QQ')"
      ]
     },
     "execution_count": 19,
     "metadata": {},
     "output_type": "execute_result"
    }
   ],
   "source": [
    "_j = jacobi_poly(1,2,1, polys=True)\n",
    "_j"
   ]
  },
  {
   "cell_type": "code",
   "execution_count": 21,
   "metadata": {},
   "outputs": [
    {
     "data": {
      "image/png": "[encoded data removed]",
      "text/latex": [
       "$\\displaystyle \\left[ - \\frac{1}{5}\\right]$"
      ],
      "text/plain": [
       "[-1/5]"
      ]
     },
     "execution_count": 21,
     "metadata": {},
     "output_type": "execute_result"
    }
   ],
   "source": [
    "_j.real_roots()"
   ]
  },
  {
   "cell_type": "code",
   "execution_count": null,
   "metadata": {},
   "outputs": [],
   "source": []
  }
 ],
 "metadata": {
  "kernelspec": {
   "display_name": "Python 3 (ipykernel)",
   "language": "python",
   "name": "python3"
  },
  "language_info": {
   "codemirror_mode": {
    "name": "ipython",
    "version": 3
   },
   "file_extension": ".py",
   "mimetype": "text/x-python",
   "name": "python",
   "nbconvert_exporter": "python",
   "pygments_lexer": "ipython3",
   "version": "3.11.3"
  }
 },
 "nbformat": 4,
 "nbformat_minor": 4
}
